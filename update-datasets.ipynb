{
 "cells": [
  {
   "cell_type": "code",
   "execution_count": 61,
   "outputs": [],
   "source": [
    "import pandas as pd\n",
    "from datetime import datetime"
   ],
   "metadata": {
    "collapsed": false
   }
  },
  {
   "cell_type": "code",
   "execution_count": 62,
   "outputs": [],
   "source": [
    "year = '2018'\n",
    "csv = pd.read_csv(f'input/delitos_{year}.csv')"
   ],
   "metadata": {
    "collapsed": false
   }
  },
  {
   "cell_type": "code",
   "execution_count": 63,
   "outputs": [],
   "source": [
    "# add column mes with month name\n",
    "csv['mes'] = csv['fecha'].apply(lambda x: x[3:5])\n",
    "csv['mes'] = csv['mes'].apply(lambda x: 'Enero' if x == '01' else x)\n",
    "csv['mes'] = csv['mes'].apply(lambda x: 'Febrero' if x == '02' else x)\n",
    "csv['mes'] = csv['mes'].apply(lambda x: 'Marzo' if x == '03' else x)\n",
    "csv['mes'] = csv['mes'].apply(lambda x: 'Abril' if x == '04' else x)\n",
    "csv['mes'] = csv['mes'].apply(lambda x: 'Mayo' if x == '05' else x)\n",
    "csv['mes'] = csv['mes'].apply(lambda x: 'Junio' if x == '06' else x)\n",
    "csv['mes'] = csv['mes'].apply(lambda x: 'Julio' if x == '07' else x)\n",
    "csv['mes'] = csv['mes'].apply(lambda x: 'Agosto' if x == '08' else x)\n",
    "csv['mes'] = csv['mes'].apply(lambda x: 'Septiembre' if x == '09' else x)\n",
    "csv['mes'] = csv['mes'].apply(lambda x: 'Octubre' if x == '10' else x)\n",
    "csv['mes'] = csv['mes'].apply(lambda x: 'Noviembre' if x == '11' else x)\n",
    "csv['mes'] = csv['mes'].apply(lambda x: 'Diciembre' if x == '12' else x)"
   ],
   "metadata": {
    "collapsed": false
   }
  },
  {
   "cell_type": "code",
   "execution_count": 64,
   "outputs": [],
   "source": [
    "# get day name from date number with datetime\n",
    "csv['dia'] = csv['fecha'].apply(lambda x: datetime.strptime(x, '%Y-%m-%d').strftime('%A'))\n",
    "# traduce los dias de la semana a español\n",
    "csv['dia'] = csv['dia'].apply(lambda x: 'Lunes' if x == 'Monday' else x)\n",
    "csv['dia'] = csv['dia'].apply(lambda x: 'Martes' if x == 'Tuesday' else x)\n",
    "csv['dia'] = csv['dia'].apply(lambda x: 'Miercoles' if x == 'Wednesday' else x)\n",
    "csv['dia'] = csv['dia'].apply(lambda x: 'Jueves' if x == 'Thursday' else x)\n",
    "csv['dia'] = csv['dia'].apply(lambda x: 'Viernes' if x == 'Friday' else x)\n",
    "csv['dia'] = csv['dia'].apply(lambda x: 'Sabado' if x == 'Saturday' else x)\n",
    "csv['dia'] = csv['dia'].apply(lambda x: 'Domingo' if x == 'Sunday' else x)"
   ],
   "metadata": {
    "collapsed": false
   }
  },
  {
   "cell_type": "code",
   "execution_count": 65,
   "outputs": [
    {
     "data": {
      "text/plain": "            id       fecha franja                   tipo          subtipo   \n0       269335  01/01/2018     23  Hurto (sin violencia)              NaN  \\\n1       248498  01/01/2018     20  Hurto (sin violencia)  Hurto Automotor   \n2       248172  01/01/2018     14  Hurto (sin violencia)  Hurto Automotor   \n3       301417  01/01/2018     11   Robo (con violencia)              NaN   \n4       272732  01/01/2018     22  Hurto (sin violencia)              NaN   \n...        ...         ...    ...                    ...              ...   \n123728  367221  31/12/2018     16   Robo (con violencia)              NaN   \n123729  367220  31/12/2018     16   Robo (con violencia)              NaN   \n123730  367224  31/12/2018     16   Robo (con violencia)              NaN   \n123731  367223  31/12/2018      2   Robo (con violencia)              NaN   \n123732  360640  31/12/2018     12   Robo (con violencia)              NaN   \n\n        cantidad_registrada  comuna             barrio    latitud   longitud   \n0                       1.0    10.0    Vélez Sársfield -34.624523 -58.502294  \\\n1                       1.0     8.0       Villa Lugano -34.669643 -58.464153   \n2                       1.0     8.0       Villa Lugano -34.680992 -58.465303   \n3                       1.0    13.0           Belgrano -34.571114 -58.464845   \n4                       1.0     4.0           Barracas -34.646857 -58.380158   \n...                     ...     ...                ...        ...        ...   \n123728                  1.0     8.0       Villa Lugano -34.673199 -58.492690   \n123729                  1.0     7.0   Parque Chacabuco -34.635321 -58.427876   \n123730                  1.0    11.0  Villa Gral. Mitre -34.613216 -58.469575   \n123731                  1.0     4.0   Parque Patricios -34.638746 -58.401177   \n123732                  1.0    12.0      Villa Urquiza -34.571441 -58.490185   \n\n       mes    dia  \n0       8-  Lunes  \n1       8-  Lunes  \n2       8-  Lunes  \n3       8-  Lunes  \n4       8-  Lunes  \n...     ..    ...  \n123728  8-  Lunes  \n123729  8-  Lunes  \n123730  8-  Lunes  \n123731  8-  Lunes  \n123732  8-  Lunes  \n\n[123733 rows x 12 columns]",
      "text/html": "<div>\n<style scoped>\n    .dataframe tbody tr th:only-of-type {\n        vertical-align: middle;\n    }\n\n    .dataframe tbody tr th {\n        vertical-align: top;\n    }\n\n    .dataframe thead th {\n        text-align: right;\n    }\n</style>\n<table border=\"1\" class=\"dataframe\">\n  <thead>\n    <tr style=\"text-align: right;\">\n      <th></th>\n      <th>id</th>\n      <th>fecha</th>\n      <th>franja</th>\n      <th>tipo</th>\n      <th>subtipo</th>\n      <th>cantidad_registrada</th>\n      <th>comuna</th>\n      <th>barrio</th>\n      <th>latitud</th>\n      <th>longitud</th>\n      <th>mes</th>\n      <th>dia</th>\n    </tr>\n  </thead>\n  <tbody>\n    <tr>\n      <th>0</th>\n      <td>269335</td>\n      <td>01/01/2018</td>\n      <td>23</td>\n      <td>Hurto (sin violencia)</td>\n      <td>NaN</td>\n      <td>1.0</td>\n      <td>10.0</td>\n      <td>Vélez Sársfield</td>\n      <td>-34.624523</td>\n      <td>-58.502294</td>\n      <td>8-</td>\n      <td>Lunes</td>\n    </tr>\n    <tr>\n      <th>1</th>\n      <td>248498</td>\n      <td>01/01/2018</td>\n      <td>20</td>\n      <td>Hurto (sin violencia)</td>\n      <td>Hurto Automotor</td>\n      <td>1.0</td>\n      <td>8.0</td>\n      <td>Villa Lugano</td>\n      <td>-34.669643</td>\n      <td>-58.464153</td>\n      <td>8-</td>\n      <td>Lunes</td>\n    </tr>\n    <tr>\n      <th>2</th>\n      <td>248172</td>\n      <td>01/01/2018</td>\n      <td>14</td>\n      <td>Hurto (sin violencia)</td>\n      <td>Hurto Automotor</td>\n      <td>1.0</td>\n      <td>8.0</td>\n      <td>Villa Lugano</td>\n      <td>-34.680992</td>\n      <td>-58.465303</td>\n      <td>8-</td>\n      <td>Lunes</td>\n    </tr>\n    <tr>\n      <th>3</th>\n      <td>301417</td>\n      <td>01/01/2018</td>\n      <td>11</td>\n      <td>Robo (con violencia)</td>\n      <td>NaN</td>\n      <td>1.0</td>\n      <td>13.0</td>\n      <td>Belgrano</td>\n      <td>-34.571114</td>\n      <td>-58.464845</td>\n      <td>8-</td>\n      <td>Lunes</td>\n    </tr>\n    <tr>\n      <th>4</th>\n      <td>272732</td>\n      <td>01/01/2018</td>\n      <td>22</td>\n      <td>Hurto (sin violencia)</td>\n      <td>NaN</td>\n      <td>1.0</td>\n      <td>4.0</td>\n      <td>Barracas</td>\n      <td>-34.646857</td>\n      <td>-58.380158</td>\n      <td>8-</td>\n      <td>Lunes</td>\n    </tr>\n    <tr>\n      <th>...</th>\n      <td>...</td>\n      <td>...</td>\n      <td>...</td>\n      <td>...</td>\n      <td>...</td>\n      <td>...</td>\n      <td>...</td>\n      <td>...</td>\n      <td>...</td>\n      <td>...</td>\n      <td>...</td>\n      <td>...</td>\n    </tr>\n    <tr>\n      <th>123728</th>\n      <td>367221</td>\n      <td>31/12/2018</td>\n      <td>16</td>\n      <td>Robo (con violencia)</td>\n      <td>NaN</td>\n      <td>1.0</td>\n      <td>8.0</td>\n      <td>Villa Lugano</td>\n      <td>-34.673199</td>\n      <td>-58.492690</td>\n      <td>8-</td>\n      <td>Lunes</td>\n    </tr>\n    <tr>\n      <th>123729</th>\n      <td>367220</td>\n      <td>31/12/2018</td>\n      <td>16</td>\n      <td>Robo (con violencia)</td>\n      <td>NaN</td>\n      <td>1.0</td>\n      <td>7.0</td>\n      <td>Parque Chacabuco</td>\n      <td>-34.635321</td>\n      <td>-58.427876</td>\n      <td>8-</td>\n      <td>Lunes</td>\n    </tr>\n    <tr>\n      <th>123730</th>\n      <td>367224</td>\n      <td>31/12/2018</td>\n      <td>16</td>\n      <td>Robo (con violencia)</td>\n      <td>NaN</td>\n      <td>1.0</td>\n      <td>11.0</td>\n      <td>Villa Gral. Mitre</td>\n      <td>-34.613216</td>\n      <td>-58.469575</td>\n      <td>8-</td>\n      <td>Lunes</td>\n    </tr>\n    <tr>\n      <th>123731</th>\n      <td>367223</td>\n      <td>31/12/2018</td>\n      <td>2</td>\n      <td>Robo (con violencia)</td>\n      <td>NaN</td>\n      <td>1.0</td>\n      <td>4.0</td>\n      <td>Parque Patricios</td>\n      <td>-34.638746</td>\n      <td>-58.401177</td>\n      <td>8-</td>\n      <td>Lunes</td>\n    </tr>\n    <tr>\n      <th>123732</th>\n      <td>360640</td>\n      <td>31/12/2018</td>\n      <td>12</td>\n      <td>Robo (con violencia)</td>\n      <td>NaN</td>\n      <td>1.0</td>\n      <td>12.0</td>\n      <td>Villa Urquiza</td>\n      <td>-34.571441</td>\n      <td>-58.490185</td>\n      <td>8-</td>\n      <td>Lunes</td>\n    </tr>\n  </tbody>\n</table>\n<p>123733 rows × 12 columns</p>\n</div>"
     },
     "execution_count": 65,
     "metadata": {},
     "output_type": "execute_result"
    }
   ],
   "source": [
    "# change date format from YYYY-MM-DD to DD/MM/YYYY\n",
    "csv['fecha'] = csv['fecha'].apply(lambda x: x[8:10] + '/' + x[5:7] + '/' + x[0:4])\n",
    "csv"
   ],
   "metadata": {
    "collapsed": false
   }
  },
  {
   "cell_type": "code",
   "execution_count": 66,
   "outputs": [],
   "source": [
    "# save to csv\n",
    "csv.to_csv(f'input/delitos_{year}.csv', index=False)"
   ],
   "metadata": {
    "collapsed": false
   }
  }
 ],
 "metadata": {
  "kernelspec": {
   "display_name": "Python 3",
   "language": "python",
   "name": "python3"
  },
  "language_info": {
   "codemirror_mode": {
    "name": "ipython",
    "version": 2
   },
   "file_extension": ".py",
   "mimetype": "text/x-python",
   "name": "python",
   "nbconvert_exporter": "python",
   "pygments_lexer": "ipython2",
   "version": "2.7.6"
  }
 },
 "nbformat": 4,
 "nbformat_minor": 0
}
