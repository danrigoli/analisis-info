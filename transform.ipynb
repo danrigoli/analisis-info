{
 "cells": [
  {
   "cell_type": "code",
   "execution_count": 57,
   "metadata": {
    "collapsed": true
   },
   "outputs": [],
   "source": [
    "import pandas as pd\n",
    "import random"
   ]
  },
  {
   "cell_type": "code",
   "execution_count": 58,
   "outputs": [],
   "source": [
    "csv = pd.read_csv('input/delitos_2020.csv')"
   ],
   "metadata": {
    "collapsed": false
   }
  },
  {
   "cell_type": "code",
   "execution_count": 59,
   "outputs": [
    {
     "data": {
      "text/plain": "           id_mapa  anio    mes        dia     fecha franja   \n0  RH-2020-0000480  2020  Enero  Miércoles  01/01/20     10  \\\n1  HD-2020-0001119  2020  Enero  Miércoles  01/01/20     22   \n2  RH-2020-0001140  2020  Enero  Miércoles  01/01/20     19   \n3  RH-2020-0001187  2020  Enero  Miércoles  01/01/20     17   \n4  RH-2020-0010817  2020  Enero  Miércoles  01/01/20      2   \n\n                    tipo    subtipo uso_armas        barrio  comuna   \n0  Hurto (sin violencia)        NaN       NaN     Versalles    10.0  \\\n1              Homicidio  Femicidio       NaN  Villa Devoto    11.0   \n2   Robo (con violencia)        NaN       NaN     Versalles    10.0   \n3   Robo (con violencia)        NaN       NaN     Versalles    10.0   \n4  Hurto (sin violencia)        NaN       NaN  Villa Devoto    11.0   \n\n      latitud    longitud  victimas  \n0  -34.626641  -58.527606       NaN  \n1  -34.611268  -58.525386       1.0  \n2  -34.625434  -58.525013       NaN  \n3  -34.625434  -58.525013       NaN  \n4  -34.606789  -58.520726       NaN  ",
      "text/html": "<div>\n<style scoped>\n    .dataframe tbody tr th:only-of-type {\n        vertical-align: middle;\n    }\n\n    .dataframe tbody tr th {\n        vertical-align: top;\n    }\n\n    .dataframe thead th {\n        text-align: right;\n    }\n</style>\n<table border=\"1\" class=\"dataframe\">\n  <thead>\n    <tr style=\"text-align: right;\">\n      <th></th>\n      <th>id_mapa</th>\n      <th>anio</th>\n      <th>mes</th>\n      <th>dia</th>\n      <th>fecha</th>\n      <th>franja</th>\n      <th>tipo</th>\n      <th>subtipo</th>\n      <th>uso_armas</th>\n      <th>barrio</th>\n      <th>comuna</th>\n      <th>latitud</th>\n      <th>longitud</th>\n      <th>victimas</th>\n    </tr>\n  </thead>\n  <tbody>\n    <tr>\n      <th>0</th>\n      <td>RH-2020-0000480</td>\n      <td>2020</td>\n      <td>Enero</td>\n      <td>Miércoles</td>\n      <td>01/01/20</td>\n      <td>10</td>\n      <td>Hurto (sin violencia)</td>\n      <td>NaN</td>\n      <td>NaN</td>\n      <td>Versalles</td>\n      <td>10.0</td>\n      <td>-34.626641</td>\n      <td>-58.527606</td>\n      <td>NaN</td>\n    </tr>\n    <tr>\n      <th>1</th>\n      <td>HD-2020-0001119</td>\n      <td>2020</td>\n      <td>Enero</td>\n      <td>Miércoles</td>\n      <td>01/01/20</td>\n      <td>22</td>\n      <td>Homicidio</td>\n      <td>Femicidio</td>\n      <td>NaN</td>\n      <td>Villa Devoto</td>\n      <td>11.0</td>\n      <td>-34.611268</td>\n      <td>-58.525386</td>\n      <td>1.0</td>\n    </tr>\n    <tr>\n      <th>2</th>\n      <td>RH-2020-0001140</td>\n      <td>2020</td>\n      <td>Enero</td>\n      <td>Miércoles</td>\n      <td>01/01/20</td>\n      <td>19</td>\n      <td>Robo (con violencia)</td>\n      <td>NaN</td>\n      <td>NaN</td>\n      <td>Versalles</td>\n      <td>10.0</td>\n      <td>-34.625434</td>\n      <td>-58.525013</td>\n      <td>NaN</td>\n    </tr>\n    <tr>\n      <th>3</th>\n      <td>RH-2020-0001187</td>\n      <td>2020</td>\n      <td>Enero</td>\n      <td>Miércoles</td>\n      <td>01/01/20</td>\n      <td>17</td>\n      <td>Robo (con violencia)</td>\n      <td>NaN</td>\n      <td>NaN</td>\n      <td>Versalles</td>\n      <td>10.0</td>\n      <td>-34.625434</td>\n      <td>-58.525013</td>\n      <td>NaN</td>\n    </tr>\n    <tr>\n      <th>4</th>\n      <td>RH-2020-0010817</td>\n      <td>2020</td>\n      <td>Enero</td>\n      <td>Miércoles</td>\n      <td>01/01/20</td>\n      <td>2</td>\n      <td>Hurto (sin violencia)</td>\n      <td>NaN</td>\n      <td>NaN</td>\n      <td>Villa Devoto</td>\n      <td>11.0</td>\n      <td>-34.606789</td>\n      <td>-58.520726</td>\n      <td>NaN</td>\n    </tr>\n  </tbody>\n</table>\n</div>"
     },
     "execution_count": 59,
     "metadata": {},
     "output_type": "execute_result"
    }
   ],
   "source": [
    "csv.head()"
   ],
   "metadata": {
    "collapsed": false
   }
  },
  {
   "cell_type": "code",
   "execution_count": 60,
   "outputs": [],
   "source": [
    "# TABLA TIPOS\n",
    "tipos_csv = csv[['tipo', 'subtipo']]\n",
    "tipos_csv = tipos_csv.drop_duplicates(ignore_index=True)\n",
    "tipos_csv = tipos_csv.fillna('Robo')\n",
    "tipos_csv['id'] = tipos_csv.index + 1"
   ],
   "metadata": {
    "collapsed": false
   }
  },
  {
   "cell_type": "code",
   "execution_count": 61,
   "outputs": [
    {
     "name": "stderr",
     "output_type": "stream",
     "text": [
      "/var/folders/zk/0yzb9y8s6z71smfld5fjvdjh0000gn/T/ipykernel_10913/2714693099.py:3: SettingWithCopyWarning: \n",
      "A value is trying to be set on a copy of a slice from a DataFrame.\n",
      "Try using .loc[row_indexer,col_indexer] = value instead\n",
      "\n",
      "See the caveats in the documentation: https://pandas.pydata.org/pandas-docs/stable/user_guide/indexing.html#returning-a-view-versus-a-copy\n",
      "  tiempos_csv['nro_dia'] = tiempos_csv['fecha'].apply(lambda x: int(x.split('/')[0]))\n"
     ]
    }
   ],
   "source": [
    "# TABLA TIEMPOS\n",
    "tiempos_csv = csv[['anio', 'mes', 'dia', 'fecha', 'franja']]\n",
    "tiempos_csv['nro_dia'] = tiempos_csv['fecha'].apply(lambda x: int(x.split('/')[0]))\n",
    "tiempos_csv = tiempos_csv.drop_duplicates(ignore_index=True)\n",
    "tiempos_csv['id'] = tiempos_csv.franja + '_' + tiempos_csv.fecha"
   ],
   "metadata": {
    "collapsed": false
   }
  },
  {
   "cell_type": "code",
   "execution_count": 62,
   "outputs": [],
   "source": [
    "# TABLA LUGARES\n",
    "lugares_csv = csv[['barrio', 'comuna', 'latitud', 'longitud']]\n",
    "# replace SD for NaN\n",
    "lugares_csv = lugares_csv.replace('SD', \"0\")\n",
    "# convert latitud and longitud to numeric\n",
    "lugares_csv['latitud'] = lugares_csv['latitud'].apply(lambda x: float(x.replace(',', '.')))\n",
    "lugares_csv['longitud'] = lugares_csv['longitud'].apply(lambda x: float(x.replace(',', '.')))\n",
    "lugares_csv = lugares_csv.groupby(['barrio', 'comuna']).mean()\n",
    "lugares_csv = lugares_csv.reset_index()\n",
    "lugares_csv['id'] = lugares_csv.index + 1"
   ],
   "metadata": {
    "collapsed": false
   }
  },
  {
   "cell_type": "code",
   "execution_count": 63,
   "outputs": [],
   "source": [
    "# TABLA TIPO DE ARMA\n",
    "armas_csv = csv[['uso_armas']]\n",
    "armas_csv = armas_csv.drop_duplicates(ignore_index=True)\n",
    "armas_csv['id'] = armas_csv.index + 1"
   ],
   "metadata": {
    "collapsed": false
   }
  },
  {
   "cell_type": "code",
   "execution_count": 64,
   "outputs": [],
   "source": [
    "# TABLA DELITOS\n",
    "delitos_csv = csv"
   ],
   "metadata": {
    "collapsed": false
   }
  },
  {
   "cell_type": "code",
   "execution_count": 65,
   "outputs": [],
   "source": [
    "# replace uso_armas for arma_id\n",
    "delitos_csv = delitos_csv.merge(armas_csv, left_on=['uso_armas'], right_on=['uso_armas'])\n",
    "delitos_csv = delitos_csv.rename(columns={'id': 'arma_id'})\n",
    "delitos_csv = delitos_csv.drop(columns=['uso_armas'])"
   ],
   "metadata": {
    "collapsed": false
   }
  },
  {
   "cell_type": "code",
   "execution_count": 66,
   "outputs": [],
   "source": [
    "# replace barrio for lugar_id\n",
    "delitos_csv = delitos_csv.merge(lugares_csv, left_on=['barrio'], right_on=['barrio'])\n",
    "delitos_csv = delitos_csv.rename(columns={'id': 'lugar_id'})\n",
    "delitos_csv = delitos_csv.drop(columns=['barrio'])"
   ],
   "metadata": {
    "collapsed": false
   }
  },
  {
   "cell_type": "code",
   "execution_count": 67,
   "outputs": [],
   "source": [
    "# replace tipo for tipo_id\n",
    "delitos_csv = delitos_csv.merge(tipos_csv, left_on=['tipo', 'subtipo'], right_on=['tipo', 'subtipo'])\n",
    "delitos_csv = delitos_csv.rename(columns={'id': 'tipo_id'})\n",
    "delitos_csv = delitos_csv.drop(columns=['tipo'])"
   ],
   "metadata": {
    "collapsed": false
   }
  },
  {
   "cell_type": "code",
   "execution_count": 68,
   "outputs": [],
   "source": [
    "# replace fecha for tiempo_id\n",
    "delitos_csv = delitos_csv.merge(tiempos_csv, left_on=['anio', 'mes', 'dia', 'fecha', 'franja'], right_on=['anio', 'mes', 'dia', 'fecha', 'franja'])\n",
    "delitos_csv = delitos_csv.rename(columns={'id': 'tiempo_id'})\n",
    "delitos_csv = delitos_csv.drop(columns=['anio', 'mes', 'dia', 'fecha', 'franja'])"
   ],
   "metadata": {
    "collapsed": false
   }
  },
  {
   "cell_type": "code",
   "execution_count": 69,
   "outputs": [],
   "source": [
    "# create a victimas column with random values\n",
    "delitos_csv['victimas'] = delitos_csv.index\n",
    "delitos_csv['costo'] = delitos_csv.index\n",
    "delitos_csv['victimas'] = delitos_csv['victimas'].apply(lambda x: random.randint(0, 5))\n",
    "delitos_csv['costo'] = delitos_csv['costo'].apply(lambda x: random.randint(0, 100000))"
   ],
   "metadata": {
    "collapsed": false
   }
  },
  {
   "cell_type": "code",
   "execution_count": 70,
   "outputs": [
    {
     "data": {
      "text/plain": "         tiempo_id  lugar_id  arma_id  tipo_id  victimas  costo\n0      21_05/01/20        35        1        6         3  48650\n1      21_05/01/20        29        1        4         3  30123\n2      21_05/01/20        45        1        7         2  25821\n3      20_10/01/20        35        1        6         1  68582\n4      20_10/01/20        19        1        6         0  50601\n...            ...       ...      ...      ...       ...    ...\n13327   4_31/08/20         4        1        9         4  37866\n13328  17_27/11/20         4        1        9         1   8100\n13329  16_29/08/20        48        1       10         3  44665\n13330  18_06/12/20         3        1       11         5  76483\n13331   1_14/09/20         4        1       11         0  23457\n\n[13332 rows x 6 columns]",
      "text/html": "<div>\n<style scoped>\n    .dataframe tbody tr th:only-of-type {\n        vertical-align: middle;\n    }\n\n    .dataframe tbody tr th {\n        vertical-align: top;\n    }\n\n    .dataframe thead th {\n        text-align: right;\n    }\n</style>\n<table border=\"1\" class=\"dataframe\">\n  <thead>\n    <tr style=\"text-align: right;\">\n      <th></th>\n      <th>tiempo_id</th>\n      <th>lugar_id</th>\n      <th>arma_id</th>\n      <th>tipo_id</th>\n      <th>victimas</th>\n      <th>costo</th>\n    </tr>\n  </thead>\n  <tbody>\n    <tr>\n      <th>0</th>\n      <td>21_05/01/20</td>\n      <td>35</td>\n      <td>1</td>\n      <td>6</td>\n      <td>3</td>\n      <td>48650</td>\n    </tr>\n    <tr>\n      <th>1</th>\n      <td>21_05/01/20</td>\n      <td>29</td>\n      <td>1</td>\n      <td>4</td>\n      <td>3</td>\n      <td>30123</td>\n    </tr>\n    <tr>\n      <th>2</th>\n      <td>21_05/01/20</td>\n      <td>45</td>\n      <td>1</td>\n      <td>7</td>\n      <td>2</td>\n      <td>25821</td>\n    </tr>\n    <tr>\n      <th>3</th>\n      <td>20_10/01/20</td>\n      <td>35</td>\n      <td>1</td>\n      <td>6</td>\n      <td>1</td>\n      <td>68582</td>\n    </tr>\n    <tr>\n      <th>4</th>\n      <td>20_10/01/20</td>\n      <td>19</td>\n      <td>1</td>\n      <td>6</td>\n      <td>0</td>\n      <td>50601</td>\n    </tr>\n    <tr>\n      <th>...</th>\n      <td>...</td>\n      <td>...</td>\n      <td>...</td>\n      <td>...</td>\n      <td>...</td>\n      <td>...</td>\n    </tr>\n    <tr>\n      <th>13327</th>\n      <td>4_31/08/20</td>\n      <td>4</td>\n      <td>1</td>\n      <td>9</td>\n      <td>4</td>\n      <td>37866</td>\n    </tr>\n    <tr>\n      <th>13328</th>\n      <td>17_27/11/20</td>\n      <td>4</td>\n      <td>1</td>\n      <td>9</td>\n      <td>1</td>\n      <td>8100</td>\n    </tr>\n    <tr>\n      <th>13329</th>\n      <td>16_29/08/20</td>\n      <td>48</td>\n      <td>1</td>\n      <td>10</td>\n      <td>3</td>\n      <td>44665</td>\n    </tr>\n    <tr>\n      <th>13330</th>\n      <td>18_06/12/20</td>\n      <td>3</td>\n      <td>1</td>\n      <td>11</td>\n      <td>5</td>\n      <td>76483</td>\n    </tr>\n    <tr>\n      <th>13331</th>\n      <td>1_14/09/20</td>\n      <td>4</td>\n      <td>1</td>\n      <td>11</td>\n      <td>0</td>\n      <td>23457</td>\n    </tr>\n  </tbody>\n</table>\n<p>13332 rows × 6 columns</p>\n</div>"
     },
     "execution_count": 70,
     "metadata": {},
     "output_type": "execute_result"
    }
   ],
   "source": [
    "delitos_csv = delitos_csv[['tiempo_id', 'lugar_id', 'arma_id', 'tipo_id', 'victimas', 'costo']]\n",
    "delitos_csv"
   ],
   "metadata": {
    "collapsed": false
   }
  },
  {
   "cell_type": "code",
   "execution_count": 71,
   "outputs": [],
   "source": [
    "# save csvs to files\n",
    "tiempos_csv.to_csv('output/tiempos.csv', index=False)\n",
    "lugares_csv.to_csv('output/lugares.csv', index=False)\n",
    "armas_csv.to_csv('output/armas.csv', index=False)\n",
    "delitos_csv.to_csv('output/delitos.csv', index=False)\n",
    "tipos_csv.to_csv('output/tipos.csv', index=False)"
   ],
   "metadata": {
    "collapsed": false
   }
  }
 ],
 "metadata": {
  "kernelspec": {
   "display_name": "Python 3",
   "language": "python",
   "name": "python3"
  },
  "language_info": {
   "codemirror_mode": {
    "name": "ipython",
    "version": 2
   },
   "file_extension": ".py",
   "mimetype": "text/x-python",
   "name": "python",
   "nbconvert_exporter": "python",
   "pygments_lexer": "ipython2",
   "version": "2.7.6"
  }
 },
 "nbformat": 4,
 "nbformat_minor": 0
}
