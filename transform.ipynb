{
 "cells": [
  {
   "cell_type": "code",
   "execution_count": 2,
   "metadata": {
    "collapsed": true
   },
   "outputs": [],
   "source": [
    "import pandas as pd\n",
    "import random"
   ]
  },
  {
   "cell_type": "code",
   "execution_count": 3,
   "outputs": [
    {
     "name": "stderr",
     "output_type": "stream",
     "text": [
      "/var/folders/zk/0yzb9y8s6z71smfld5fjvdjh0000gn/T/ipykernel_24439/527257168.py:3: DtypeWarning: Columns (2) have mixed types. Specify dtype option on import or set low_memory=False.\n",
      "  csv = pd.concat([csv, pd.read_csv(f'input/delitos_{i}.csv')])\n"
     ]
    }
   ],
   "source": [
    "csv = pd.read_csv('input/delitos_2016.csv')\n",
    "for i in range(2017, 2021):\n",
    "    csv = pd.concat([csv, pd.read_csv(f'input/delitos_{i}.csv')])"
   ],
   "metadata": {
    "collapsed": false
   }
  },
  {
   "cell_type": "code",
   "execution_count": 4,
   "outputs": [],
   "source": [
    "# convert DD/MM/AAAA to DD-MM-AAAA\n",
    "csv['fecha'] = csv['fecha'].apply(lambda x: x.replace('/', '-'))\n",
    "# change lat/long to latitud/longitud\n",
    "csv = csv.rename(columns={'lat': 'latitud', 'long': 'longitud'})\n",
    "# if uso_armas is not present or null, set to \"Sin Datos\"\n",
    "csv['uso_armas'] = csv['uso_armas'].fillna('Sin Datos')\n",
    "# if subtipo is not present or null, set to \"Sin Datos\"\n",
    "csv['subtipo'] = csv['subtipo'].fillna('Robo')\n",
    "# remove id and id_mapa\n",
    "csv = csv.drop(columns=['id', 'id_mapa', 'cantidad_registrada'])\n",
    "# set anio, mes, dia with the fecha column\n",
    "csv['anio'] = csv['fecha'].apply(lambda x: int(x.split('-')[2]))\n",
    "csv['mes'] = csv['fecha'].apply(lambda x: int(x.split('-')[1]))\n",
    "csv['nro_dia'] = csv['fecha'].apply(lambda x: int(x.split('-')[0]))\n",
    "# set comuna to int\n",
    "# csv['comuna'] = csv['comuna'].apply(lambda x: int(x))"
   ],
   "metadata": {
    "collapsed": false
   }
  },
  {
   "cell_type": "code",
   "execution_count": 5,
   "outputs": [
    {
     "data": {
      "text/plain": "        fecha franja                   tipo         subtipo  comuna   \n0  01-01-2016     13   Robo (con violencia)            Robo     9.0  \\\n1  01-01-2016     22   Robo (con violencia)            Robo    14.0   \n2  01-01-2016      1               Lesiones  Siniestro Vial     4.0   \n3  01-01-2016     19  Hurto (sin violencia)            Robo     9.0   \n4  01-01-2016      4   Robo (con violencia)  Robo Automotor     6.0   \n\n              barrio    latitud   longitud  mes      dia  anio  uso_armas   \n0  Parque Avellaneda  -34.64873 -58.468536    1  Viernes  2016  Sin Datos  \\\n1            Palermo -34.576925   -58.4074    1  Viernes  2016  Sin Datos   \n2   Parque Patricios -34.645197 -58.401099    1  Viernes  2016  Sin Datos   \n3  Parque Avellaneda  -34.65576 -58.478681    1  Viernes  2016  Sin Datos   \n4          Caballito -34.624128 -58.436826    1  Viernes  2016  Sin Datos   \n\n   victimas  nro_dia  \n0       NaN        1  \n1       NaN        1  \n2       NaN        1  \n3       NaN        1  \n4       NaN        1  ",
      "text/html": "<div>\n<style scoped>\n    .dataframe tbody tr th:only-of-type {\n        vertical-align: middle;\n    }\n\n    .dataframe tbody tr th {\n        vertical-align: top;\n    }\n\n    .dataframe thead th {\n        text-align: right;\n    }\n</style>\n<table border=\"1\" class=\"dataframe\">\n  <thead>\n    <tr style=\"text-align: right;\">\n      <th></th>\n      <th>fecha</th>\n      <th>franja</th>\n      <th>tipo</th>\n      <th>subtipo</th>\n      <th>comuna</th>\n      <th>barrio</th>\n      <th>latitud</th>\n      <th>longitud</th>\n      <th>mes</th>\n      <th>dia</th>\n      <th>anio</th>\n      <th>uso_armas</th>\n      <th>victimas</th>\n      <th>nro_dia</th>\n    </tr>\n  </thead>\n  <tbody>\n    <tr>\n      <th>0</th>\n      <td>01-01-2016</td>\n      <td>13</td>\n      <td>Robo (con violencia)</td>\n      <td>Robo</td>\n      <td>9.0</td>\n      <td>Parque Avellaneda</td>\n      <td>-34.64873</td>\n      <td>-58.468536</td>\n      <td>1</td>\n      <td>Viernes</td>\n      <td>2016</td>\n      <td>Sin Datos</td>\n      <td>NaN</td>\n      <td>1</td>\n    </tr>\n    <tr>\n      <th>1</th>\n      <td>01-01-2016</td>\n      <td>22</td>\n      <td>Robo (con violencia)</td>\n      <td>Robo</td>\n      <td>14.0</td>\n      <td>Palermo</td>\n      <td>-34.576925</td>\n      <td>-58.4074</td>\n      <td>1</td>\n      <td>Viernes</td>\n      <td>2016</td>\n      <td>Sin Datos</td>\n      <td>NaN</td>\n      <td>1</td>\n    </tr>\n    <tr>\n      <th>2</th>\n      <td>01-01-2016</td>\n      <td>1</td>\n      <td>Lesiones</td>\n      <td>Siniestro Vial</td>\n      <td>4.0</td>\n      <td>Parque Patricios</td>\n      <td>-34.645197</td>\n      <td>-58.401099</td>\n      <td>1</td>\n      <td>Viernes</td>\n      <td>2016</td>\n      <td>Sin Datos</td>\n      <td>NaN</td>\n      <td>1</td>\n    </tr>\n    <tr>\n      <th>3</th>\n      <td>01-01-2016</td>\n      <td>19</td>\n      <td>Hurto (sin violencia)</td>\n      <td>Robo</td>\n      <td>9.0</td>\n      <td>Parque Avellaneda</td>\n      <td>-34.65576</td>\n      <td>-58.478681</td>\n      <td>1</td>\n      <td>Viernes</td>\n      <td>2016</td>\n      <td>Sin Datos</td>\n      <td>NaN</td>\n      <td>1</td>\n    </tr>\n    <tr>\n      <th>4</th>\n      <td>01-01-2016</td>\n      <td>4</td>\n      <td>Robo (con violencia)</td>\n      <td>Robo Automotor</td>\n      <td>6.0</td>\n      <td>Caballito</td>\n      <td>-34.624128</td>\n      <td>-58.436826</td>\n      <td>1</td>\n      <td>Viernes</td>\n      <td>2016</td>\n      <td>Sin Datos</td>\n      <td>NaN</td>\n      <td>1</td>\n    </tr>\n  </tbody>\n</table>\n</div>"
     },
     "execution_count": 5,
     "metadata": {},
     "output_type": "execute_result"
    }
   ],
   "source": [
    "csv.head()"
   ],
   "metadata": {
    "collapsed": false
   }
  },
  {
   "cell_type": "code",
   "execution_count": null,
   "outputs": [],
   "source": [
    "# TABLA TIPOS\n",
    "tipos_csv = csv[['tipo', 'subtipo']]\n",
    "tipos_csv = tipos_csv.drop_duplicates(ignore_index=True)\n",
    "tipos_csv = tipos_csv.fillna('Robo')\n",
    "tipos_csv['id'] = tipos_csv.index + 1"
   ],
   "metadata": {
    "collapsed": false
   }
  },
  {
   "cell_type": "code",
   "execution_count": null,
   "outputs": [],
   "source": [
    "# TABLA TIEMPOS\n",
    "tiempos_csv = csv[['anio', 'mes', 'dia', 'fecha', 'franja']]\n",
    "tiempos_csv['nro_dia'] = tiempos_csv['fecha'].apply(lambda x: int(x.split('-')[0]))\n",
    "tiempos_csv = tiempos_csv.drop_duplicates(ignore_index=True)\n",
    "tiempos_csv['id'] = tiempos_csv.index + 1\n",
    "tiempos_csv['dia'] = tiempos_csv['dia'].fillna('Sin Datos')\n",
    "tiempos_csv"
   ],
   "metadata": {
    "collapsed": false
   }
  },
  {
   "cell_type": "code",
   "execution_count": null,
   "outputs": [],
   "source": [
    "# TABLA LUGARES\n",
    "lugares_csv = csv[['barrio', 'comuna', 'latitud', 'longitud']]\n",
    "# remove the ones that don't have latitud or longitud\n",
    "lugares_csv = lugares_csv.dropna()\n",
    "# convert latitud and longitud to numeric if they are not\n",
    "lugares_csv['latitud'] = pd.to_numeric(lugares_csv['latitud'], errors='coerce')\n",
    "lugares_csv['longitud'] = pd.to_numeric(lugares_csv['longitud'], errors='coerce')\n",
    "lugares_csv = lugares_csv.groupby(['barrio', 'comuna']).max()\n",
    "# if it is smaller than -75 it means there is an error, multiply it by 0.001\n",
    "lugares_csv['latitud'] = lugares_csv['latitud'].apply(lambda x: x * 0.001 if x < -75 else x)\n",
    "lugares_csv['longitud'] = lugares_csv['longitud'].apply(lambda x: x * 0.001 if x < -75 else x)\n",
    "lugares_csv = lugares_csv.reset_index()\n",
    "lugares_csv['id'] = lugares_csv.index + 1\n",
    "lugares_csv"
   ],
   "metadata": {
    "collapsed": false
   }
  },
  {
   "cell_type": "code",
   "execution_count": null,
   "outputs": [],
   "source": [
    "# TABLA TIPO DE ARMA\n",
    "armas_csv = csv[['uso_armas']]\n",
    "armas_csv = armas_csv.drop_duplicates(ignore_index=True)\n",
    "armas_csv['id'] = armas_csv.index + 1\n",
    "armas_csv"
   ],
   "metadata": {
    "collapsed": false
   }
  },
  {
   "cell_type": "code",
   "execution_count": null,
   "outputs": [],
   "source": [
    "# TABLA DELITOS\n",
    "delitos_csv = csv\n",
    "delitos_csv"
   ],
   "metadata": {
    "collapsed": false
   }
  },
  {
   "cell_type": "code",
   "execution_count": null,
   "outputs": [],
   "source": [
    "# replace uso_armas for arma_id\n",
    "delitos_csv = delitos_csv.merge(armas_csv, left_on=['uso_armas'], right_on=['uso_armas'])\n",
    "delitos_csv = delitos_csv.rename(columns={'id': 'arma_id'})\n",
    "delitos_csv"
   ],
   "metadata": {
    "collapsed": false
   }
  },
  {
   "cell_type": "code",
   "execution_count": null,
   "outputs": [],
   "source": [
    "# replace barrio for lugar_id\n",
    "delitos_csv = delitos_csv.merge(lugares_csv, left_on=['barrio'], right_on=['barrio'])\n",
    "delitos_csv = delitos_csv.rename(columns={'id': 'lugar_id'})\n",
    "delitos_csv = delitos_csv.drop(columns=['barrio'])"
   ],
   "metadata": {
    "collapsed": false
   }
  },
  {
   "cell_type": "code",
   "execution_count": null,
   "outputs": [],
   "source": [
    "# replace tipo for tipo_id\n",
    "delitos_csv = delitos_csv.merge(tipos_csv, left_on=['tipo', 'subtipo'], right_on=['tipo', 'subtipo'])\n",
    "delitos_csv = delitos_csv.rename(columns={'id': 'tipo_id'})\n",
    "delitos_csv = delitos_csv.drop(columns=['tipo', 'subtipo'])"
   ],
   "metadata": {
    "collapsed": false
   }
  },
  {
   "cell_type": "code",
   "execution_count": null,
   "outputs": [],
   "source": [
    "# # replace fecha for tiempo_id\n",
    "delitos_csv = delitos_csv.merge(tiempos_csv, left_on=['fecha', 'franja'], right_on=['fecha', 'franja'])\n",
    "delitos_csv = delitos_csv.rename(columns={'id': 'tiempo_id'})\n",
    "delitos_csv = delitos_csv.drop(columns=['fecha'])"
   ],
   "metadata": {
    "collapsed": false
   }
  },
  {
   "cell_type": "code",
   "execution_count": null,
   "outputs": [],
   "source": [
    "# create a victimas column with random values\n",
    "delitos_csv['victimas'] = delitos_csv.index\n",
    "delitos_csv['costo'] = delitos_csv.index\n",
    "delitos_csv['victimas'] = delitos_csv['victimas'].apply(lambda x: random.randint(0, 5))\n",
    "delitos_csv['costo'] = delitos_csv['costo'].apply(lambda x: random.randint(0, 100000))"
   ],
   "metadata": {
    "collapsed": false
   }
  },
  {
   "cell_type": "code",
   "execution_count": null,
   "outputs": [],
   "source": [
    "delitos_csv = delitos_csv[['lugar_id', 'tiempo_id', 'arma_id', 'tipo_id', 'victimas', 'costo']]\n",
    "delitos_csv"
   ],
   "metadata": {
    "collapsed": false
   }
  },
  {
   "cell_type": "code",
   "execution_count": null,
   "outputs": [],
   "source": [
    "# save csvs to files\n",
    "tiempos_csv.to_csv('output/tiempos.csv', index=False)\n",
    "lugares_csv.to_csv('output/lugares.csv', index=False)\n",
    "armas_csv.to_csv('output/armas.csv', index=False)\n",
    "delitos_csv.to_csv('output/delitos.csv', index=False)\n",
    "tipos_csv.to_csv('output/tipos.csv', index=False)"
   ],
   "metadata": {
    "collapsed": false
   }
  }
 ],
 "metadata": {
  "kernelspec": {
   "display_name": "Python 3",
   "language": "python",
   "name": "python3"
  },
  "language_info": {
   "codemirror_mode": {
    "name": "ipython",
    "version": 2
   },
   "file_extension": ".py",
   "mimetype": "text/x-python",
   "name": "python",
   "nbconvert_exporter": "python",
   "pygments_lexer": "ipython2",
   "version": "2.7.6"
  }
 },
 "nbformat": 4,
 "nbformat_minor": 0
}
