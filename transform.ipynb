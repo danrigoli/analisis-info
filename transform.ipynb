{
 "cells": [
  {
   "cell_type": "code",
   "execution_count": 69,
   "metadata": {
    "collapsed": true
   },
   "outputs": [],
   "source": [
    "import pandas as pd\n",
    "import random"
   ]
  },
  {
   "cell_type": "code",
   "execution_count": 70,
   "outputs": [
    {
     "name": "stderr",
     "output_type": "stream",
     "text": [
      "/var/folders/zk/0yzb9y8s6z71smfld5fjvdjh0000gn/T/ipykernel_14488/527257168.py:3: DtypeWarning: Columns (2) have mixed types. Specify dtype option on import or set low_memory=False.\n",
      "  csv = pd.concat([csv, pd.read_csv(f'input/delitos_{i}.csv')])\n"
     ]
    }
   ],
   "source": [
    "csv = pd.read_csv('input/delitos_2016.csv')\n",
    "for i in range(2017, 2021):\n",
    "    csv = pd.concat([csv, pd.read_csv(f'input/delitos_{i}.csv')])"
   ],
   "metadata": {
    "collapsed": false
   }
  },
  {
   "cell_type": "code",
   "execution_count": 71,
   "outputs": [],
   "source": [
    "# convert DD/MM/AAAA to DD-MM-AAAA\n",
    "csv['fecha'] = csv['fecha'].apply(lambda x: x.replace('/', '-'))\n",
    "# change lat/long to latitud/longitud\n",
    "csv = csv.rename(columns={'lat': 'latitud', 'long': 'longitud'})\n",
    "# if uso_armas is not present or null, set to \"Sin Datos\"\n",
    "csv['uso_armas'] = csv['uso_armas'].fillna('Sin Datos')\n",
    "# if subtipo is not present or null, set to \"Sin Datos\"\n",
    "csv['subtipo'] = csv['subtipo'].fillna('Robo')\n",
    "# remove id and id_mapa\n",
    "csv = csv.drop(columns=['id', 'id_mapa', 'cantidad_registrada'])\n",
    "# set anio, mes, dia with the fecha column\n",
    "csv['anio'] = csv['fecha'].apply(lambda x: int(x.split('-')[2]))\n",
    "csv['mes'] = csv['fecha'].apply(lambda x: int(x.split('-')[1]))\n",
    "csv['nro_dia'] = csv['fecha'].apply(lambda x: int(x.split('-')[0]))\n",
    "# set comuna to int\n",
    "# csv['comuna'] = csv['comuna'].apply(lambda x: int(x))"
   ],
   "metadata": {
    "collapsed": false
   }
  },
  {
   "cell_type": "code",
   "execution_count": 72,
   "outputs": [
    {
     "data": {
      "text/plain": "        fecha franja                   tipo         subtipo  comuna   \n0  01-01-2016     13   Robo (con violencia)            Robo     9.0  \\\n1  01-01-2016     22   Robo (con violencia)            Robo    14.0   \n2  01-01-2016      1               Lesiones  Siniestro Vial     4.0   \n3  01-01-2016     19  Hurto (sin violencia)            Robo     9.0   \n4  01-01-2016      4   Robo (con violencia)  Robo Automotor     6.0   \n\n              barrio    latitud   longitud  mes      dia  anio  uso_armas   \n0  Parque Avellaneda  -34.64873 -58.468536    1  Viernes  2016  Sin Datos  \\\n1            Palermo -34.576925   -58.4074    1  Viernes  2016  Sin Datos   \n2   Parque Patricios -34.645197 -58.401099    1  Viernes  2016  Sin Datos   \n3  Parque Avellaneda  -34.65576 -58.478681    1  Viernes  2016  Sin Datos   \n4          Caballito -34.624128 -58.436826    1  Viernes  2016  Sin Datos   \n\n   victimas  nro_dia  \n0       NaN        1  \n1       NaN        1  \n2       NaN        1  \n3       NaN        1  \n4       NaN        1  ",
      "text/html": "<div>\n<style scoped>\n    .dataframe tbody tr th:only-of-type {\n        vertical-align: middle;\n    }\n\n    .dataframe tbody tr th {\n        vertical-align: top;\n    }\n\n    .dataframe thead th {\n        text-align: right;\n    }\n</style>\n<table border=\"1\" class=\"dataframe\">\n  <thead>\n    <tr style=\"text-align: right;\">\n      <th></th>\n      <th>fecha</th>\n      <th>franja</th>\n      <th>tipo</th>\n      <th>subtipo</th>\n      <th>comuna</th>\n      <th>barrio</th>\n      <th>latitud</th>\n      <th>longitud</th>\n      <th>mes</th>\n      <th>dia</th>\n      <th>anio</th>\n      <th>uso_armas</th>\n      <th>victimas</th>\n      <th>nro_dia</th>\n    </tr>\n  </thead>\n  <tbody>\n    <tr>\n      <th>0</th>\n      <td>01-01-2016</td>\n      <td>13</td>\n      <td>Robo (con violencia)</td>\n      <td>Robo</td>\n      <td>9.0</td>\n      <td>Parque Avellaneda</td>\n      <td>-34.64873</td>\n      <td>-58.468536</td>\n      <td>1</td>\n      <td>Viernes</td>\n      <td>2016</td>\n      <td>Sin Datos</td>\n      <td>NaN</td>\n      <td>1</td>\n    </tr>\n    <tr>\n      <th>1</th>\n      <td>01-01-2016</td>\n      <td>22</td>\n      <td>Robo (con violencia)</td>\n      <td>Robo</td>\n      <td>14.0</td>\n      <td>Palermo</td>\n      <td>-34.576925</td>\n      <td>-58.4074</td>\n      <td>1</td>\n      <td>Viernes</td>\n      <td>2016</td>\n      <td>Sin Datos</td>\n      <td>NaN</td>\n      <td>1</td>\n    </tr>\n    <tr>\n      <th>2</th>\n      <td>01-01-2016</td>\n      <td>1</td>\n      <td>Lesiones</td>\n      <td>Siniestro Vial</td>\n      <td>4.0</td>\n      <td>Parque Patricios</td>\n      <td>-34.645197</td>\n      <td>-58.401099</td>\n      <td>1</td>\n      <td>Viernes</td>\n      <td>2016</td>\n      <td>Sin Datos</td>\n      <td>NaN</td>\n      <td>1</td>\n    </tr>\n    <tr>\n      <th>3</th>\n      <td>01-01-2016</td>\n      <td>19</td>\n      <td>Hurto (sin violencia)</td>\n      <td>Robo</td>\n      <td>9.0</td>\n      <td>Parque Avellaneda</td>\n      <td>-34.65576</td>\n      <td>-58.478681</td>\n      <td>1</td>\n      <td>Viernes</td>\n      <td>2016</td>\n      <td>Sin Datos</td>\n      <td>NaN</td>\n      <td>1</td>\n    </tr>\n    <tr>\n      <th>4</th>\n      <td>01-01-2016</td>\n      <td>4</td>\n      <td>Robo (con violencia)</td>\n      <td>Robo Automotor</td>\n      <td>6.0</td>\n      <td>Caballito</td>\n      <td>-34.624128</td>\n      <td>-58.436826</td>\n      <td>1</td>\n      <td>Viernes</td>\n      <td>2016</td>\n      <td>Sin Datos</td>\n      <td>NaN</td>\n      <td>1</td>\n    </tr>\n  </tbody>\n</table>\n</div>"
     },
     "execution_count": 72,
     "metadata": {},
     "output_type": "execute_result"
    }
   ],
   "source": [
    "csv.head()"
   ],
   "metadata": {
    "collapsed": false
   }
  },
  {
   "cell_type": "code",
   "execution_count": 73,
   "outputs": [],
   "source": [
    "# TABLA TIPOS\n",
    "tipos_csv = csv[['tipo', 'subtipo']]\n",
    "tipos_csv = tipos_csv.drop_duplicates(ignore_index=True)\n",
    "tipos_csv = tipos_csv.fillna('Robo')\n",
    "tipos_csv['id'] = tipos_csv.index + 1"
   ],
   "metadata": {
    "collapsed": false
   }
  },
  {
   "cell_type": "code",
   "execution_count": 74,
   "outputs": [
    {
     "name": "stderr",
     "output_type": "stream",
     "text": [
      "/var/folders/zk/0yzb9y8s6z71smfld5fjvdjh0000gn/T/ipykernel_14488/3006930889.py:3: SettingWithCopyWarning: \n",
      "A value is trying to be set on a copy of a slice from a DataFrame.\n",
      "Try using .loc[row_indexer,col_indexer] = value instead\n",
      "\n",
      "See the caveats in the documentation: https://pandas.pydata.org/pandas-docs/stable/user_guide/indexing.html#returning-a-view-versus-a-copy\n",
      "  tiempos_csv['nro_dia'] = tiempos_csv['fecha'].apply(lambda x: int(x.split('-')[0]))\n"
     ]
    },
    {
     "data": {
      "text/plain": "       anio  mes      dia       fecha franja  nro_dia     id\n0      2016    1  Viernes  01-01-2016     13        1      1\n1      2016    1  Viernes  01-01-2016     22        1      2\n2      2016    1  Viernes  01-01-2016      1        1      3\n3      2016    1  Viernes  01-01-2016     19        1      4\n4      2016    1  Viernes  01-01-2016      4        1      5\n...     ...  ...      ...         ...    ...      ...    ...\n51405    20   12   Jueves    31-12-20     20       31  51406\n51406    20   12   Jueves    31-12-20      5       31  51407\n51407    20   12   Jueves    31-12-20     12       31  51408\n51408    20   12   Jueves    31-12-20      6       31  51409\n51409    20   12   Jueves    31-12-20      2       31  51410\n\n[51410 rows x 7 columns]",
      "text/html": "<div>\n<style scoped>\n    .dataframe tbody tr th:only-of-type {\n        vertical-align: middle;\n    }\n\n    .dataframe tbody tr th {\n        vertical-align: top;\n    }\n\n    .dataframe thead th {\n        text-align: right;\n    }\n</style>\n<table border=\"1\" class=\"dataframe\">\n  <thead>\n    <tr style=\"text-align: right;\">\n      <th></th>\n      <th>anio</th>\n      <th>mes</th>\n      <th>dia</th>\n      <th>fecha</th>\n      <th>franja</th>\n      <th>nro_dia</th>\n      <th>id</th>\n    </tr>\n  </thead>\n  <tbody>\n    <tr>\n      <th>0</th>\n      <td>2016</td>\n      <td>1</td>\n      <td>Viernes</td>\n      <td>01-01-2016</td>\n      <td>13</td>\n      <td>1</td>\n      <td>1</td>\n    </tr>\n    <tr>\n      <th>1</th>\n      <td>2016</td>\n      <td>1</td>\n      <td>Viernes</td>\n      <td>01-01-2016</td>\n      <td>22</td>\n      <td>1</td>\n      <td>2</td>\n    </tr>\n    <tr>\n      <th>2</th>\n      <td>2016</td>\n      <td>1</td>\n      <td>Viernes</td>\n      <td>01-01-2016</td>\n      <td>1</td>\n      <td>1</td>\n      <td>3</td>\n    </tr>\n    <tr>\n      <th>3</th>\n      <td>2016</td>\n      <td>1</td>\n      <td>Viernes</td>\n      <td>01-01-2016</td>\n      <td>19</td>\n      <td>1</td>\n      <td>4</td>\n    </tr>\n    <tr>\n      <th>4</th>\n      <td>2016</td>\n      <td>1</td>\n      <td>Viernes</td>\n      <td>01-01-2016</td>\n      <td>4</td>\n      <td>1</td>\n      <td>5</td>\n    </tr>\n    <tr>\n      <th>...</th>\n      <td>...</td>\n      <td>...</td>\n      <td>...</td>\n      <td>...</td>\n      <td>...</td>\n      <td>...</td>\n      <td>...</td>\n    </tr>\n    <tr>\n      <th>51405</th>\n      <td>20</td>\n      <td>12</td>\n      <td>Jueves</td>\n      <td>31-12-20</td>\n      <td>20</td>\n      <td>31</td>\n      <td>51406</td>\n    </tr>\n    <tr>\n      <th>51406</th>\n      <td>20</td>\n      <td>12</td>\n      <td>Jueves</td>\n      <td>31-12-20</td>\n      <td>5</td>\n      <td>31</td>\n      <td>51407</td>\n    </tr>\n    <tr>\n      <th>51407</th>\n      <td>20</td>\n      <td>12</td>\n      <td>Jueves</td>\n      <td>31-12-20</td>\n      <td>12</td>\n      <td>31</td>\n      <td>51408</td>\n    </tr>\n    <tr>\n      <th>51408</th>\n      <td>20</td>\n      <td>12</td>\n      <td>Jueves</td>\n      <td>31-12-20</td>\n      <td>6</td>\n      <td>31</td>\n      <td>51409</td>\n    </tr>\n    <tr>\n      <th>51409</th>\n      <td>20</td>\n      <td>12</td>\n      <td>Jueves</td>\n      <td>31-12-20</td>\n      <td>2</td>\n      <td>31</td>\n      <td>51410</td>\n    </tr>\n  </tbody>\n</table>\n<p>51410 rows × 7 columns</p>\n</div>"
     },
     "execution_count": 74,
     "metadata": {},
     "output_type": "execute_result"
    }
   ],
   "source": [
    "# TABLA TIEMPOS\n",
    "tiempos_csv = csv[['anio', 'mes', 'dia', 'fecha', 'franja']]\n",
    "tiempos_csv['nro_dia'] = tiempos_csv['fecha'].apply(lambda x: int(x.split('-')[0]))\n",
    "tiempos_csv = tiempos_csv.drop_duplicates(ignore_index=True)\n",
    "tiempos_csv['id'] = tiempos_csv.index + 1\n",
    "tiempos_csv['dia'] = tiempos_csv['dia'].fillna('Sin Datos')\n",
    "tiempos_csv"
   ],
   "metadata": {
    "collapsed": false
   }
  },
  {
   "cell_type": "code",
   "execution_count": 75,
   "outputs": [
    {
     "data": {
      "text/plain": "               barrio  comuna    latitud   longitud  id\n0           Agronomía    15.0 -34.584930 -58.476035   1\n1             Almagro     5.0 -34.597733 -58.411991   2\n2           Balvanera     3.0 -34.598042 -58.391662   3\n3            Barracas     4.0 -34.626654 -58.367685   4\n4            Belgrano    13.0 -34.534385 -58.427144   5\n5                Boca     4.0 -34.617890 -58.342665   6\n6               Boedo     5.0 -34.620738 -58.410514   7\n7           Caballito     6.0 -34.602774 -58.426758   8\n8           Chacarita    15.0 -34.578295 -58.439178   9\n9             Coghlan    12.0 -34.553535 -58.466512  10\n10         Colegiales    13.0 -34.566148 -58.439942  11\n11       Constitución     1.0 -34.617546 -58.375577  12\n12             Flores     7.0 -34.613902 -58.430439  13\n13           Floresta    10.0 -34.616827 -58.471325  14\n14            La Boca     4.0 -34.636755 -58.357993  15\n15            Liniers     9.0 -34.633016 -58.502695  16\n16          Mataderos     9.0 -34.643629 -58.478879  17\n17          Monserrat     1.0 -34.606594 -58.366739  18\n18       Monte Castro    10.0 -34.609304 -58.492647  19\n19      Nueva Pompeya     4.0 -34.638130 -58.401056  20\n20              Nuñez    13.0 -34.528497 -58.449705  21\n21            Palermo    14.0 -34.550941 -58.393186  22\n22  Parque Avellaneda     9.0 -34.636869 -58.460837  23\n23   Parque Chacabuco     7.0 -34.627011 -58.423494  24\n24        Parque Chas    15.0 -34.579125 -58.470837  25\n25   Parque Patricios     4.0 -34.627256 -58.389885  26\n26           Paternal    15.0 -34.587511 -58.456251  27\n27      Puerto Madero     1.0 -34.598181 -58.341017  28\n28           Recoleta     2.0 -34.569360 -58.373980  29\n29             Retiro     1.0 -34.578211 -58.364150  30\n30           Saavedra    12.0 -34.538907 -58.468253  31\n31      San Cristóbal     3.0 -34.618252 -58.391173  32\n32        San Nicolás     1.0 -34.598391 -58.367736  33\n33          San Telmo     1.0 -34.615725 -58.363460  34\n34          Versalles    10.0 -34.623737 -58.508769  35\n35       Villa Crespo    15.0 -34.588690 -58.423393  36\n36   Villa Del Parque    11.0 -34.597012 -58.474341  37\n37       Villa Devoto    11.0 -34.581548 -58.497645  38\n38  Villa Gral. Mitre    11.0 -34.601966 -58.458612  39\n39       Villa Lugano     8.0 -34.657945 -58.450666  40\n40         Villa Luro    10.0 -34.624419 -58.488302  41\n41      Villa Ortuzar    15.0 -34.572497 -58.460466  42\n42   Villa Pueyrredón    12.0 -34.569827 -58.488813  43\n43         Villa Real    10.0 -34.611310 -58.517076  44\n44    Villa Riachuelo     8.0 -34.680488 -58.448987  45\n45   Villa Santa Rita    11.0 -34.608318 -58.471655  46\n46      Villa Soldati     8.0 -34.650872 -58.424464  47\n47      Villa Urquiza    12.0 -34.559173 -58.468283  48\n48   Villa del Parque    11.0 -34.596839 -58.474017  49\n49    Vélez Sársfield    10.0 -34.621438 -58.478587  50",
      "text/html": "<div>\n<style scoped>\n    .dataframe tbody tr th:only-of-type {\n        vertical-align: middle;\n    }\n\n    .dataframe tbody tr th {\n        vertical-align: top;\n    }\n\n    .dataframe thead th {\n        text-align: right;\n    }\n</style>\n<table border=\"1\" class=\"dataframe\">\n  <thead>\n    <tr style=\"text-align: right;\">\n      <th></th>\n      <th>barrio</th>\n      <th>comuna</th>\n      <th>latitud</th>\n      <th>longitud</th>\n      <th>id</th>\n    </tr>\n  </thead>\n  <tbody>\n    <tr>\n      <th>0</th>\n      <td>Agronomía</td>\n      <td>15.0</td>\n      <td>-34.584930</td>\n      <td>-58.476035</td>\n      <td>1</td>\n    </tr>\n    <tr>\n      <th>1</th>\n      <td>Almagro</td>\n      <td>5.0</td>\n      <td>-34.597733</td>\n      <td>-58.411991</td>\n      <td>2</td>\n    </tr>\n    <tr>\n      <th>2</th>\n      <td>Balvanera</td>\n      <td>3.0</td>\n      <td>-34.598042</td>\n      <td>-58.391662</td>\n      <td>3</td>\n    </tr>\n    <tr>\n      <th>3</th>\n      <td>Barracas</td>\n      <td>4.0</td>\n      <td>-34.626654</td>\n      <td>-58.367685</td>\n      <td>4</td>\n    </tr>\n    <tr>\n      <th>4</th>\n      <td>Belgrano</td>\n      <td>13.0</td>\n      <td>-34.534385</td>\n      <td>-58.427144</td>\n      <td>5</td>\n    </tr>\n    <tr>\n      <th>5</th>\n      <td>Boca</td>\n      <td>4.0</td>\n      <td>-34.617890</td>\n      <td>-58.342665</td>\n      <td>6</td>\n    </tr>\n    <tr>\n      <th>6</th>\n      <td>Boedo</td>\n      <td>5.0</td>\n      <td>-34.620738</td>\n      <td>-58.410514</td>\n      <td>7</td>\n    </tr>\n    <tr>\n      <th>7</th>\n      <td>Caballito</td>\n      <td>6.0</td>\n      <td>-34.602774</td>\n      <td>-58.426758</td>\n      <td>8</td>\n    </tr>\n    <tr>\n      <th>8</th>\n      <td>Chacarita</td>\n      <td>15.0</td>\n      <td>-34.578295</td>\n      <td>-58.439178</td>\n      <td>9</td>\n    </tr>\n    <tr>\n      <th>9</th>\n      <td>Coghlan</td>\n      <td>12.0</td>\n      <td>-34.553535</td>\n      <td>-58.466512</td>\n      <td>10</td>\n    </tr>\n    <tr>\n      <th>10</th>\n      <td>Colegiales</td>\n      <td>13.0</td>\n      <td>-34.566148</td>\n      <td>-58.439942</td>\n      <td>11</td>\n    </tr>\n    <tr>\n      <th>11</th>\n      <td>Constitución</td>\n      <td>1.0</td>\n      <td>-34.617546</td>\n      <td>-58.375577</td>\n      <td>12</td>\n    </tr>\n    <tr>\n      <th>12</th>\n      <td>Flores</td>\n      <td>7.0</td>\n      <td>-34.613902</td>\n      <td>-58.430439</td>\n      <td>13</td>\n    </tr>\n    <tr>\n      <th>13</th>\n      <td>Floresta</td>\n      <td>10.0</td>\n      <td>-34.616827</td>\n      <td>-58.471325</td>\n      <td>14</td>\n    </tr>\n    <tr>\n      <th>14</th>\n      <td>La Boca</td>\n      <td>4.0</td>\n      <td>-34.636755</td>\n      <td>-58.357993</td>\n      <td>15</td>\n    </tr>\n    <tr>\n      <th>15</th>\n      <td>Liniers</td>\n      <td>9.0</td>\n      <td>-34.633016</td>\n      <td>-58.502695</td>\n      <td>16</td>\n    </tr>\n    <tr>\n      <th>16</th>\n      <td>Mataderos</td>\n      <td>9.0</td>\n      <td>-34.643629</td>\n      <td>-58.478879</td>\n      <td>17</td>\n    </tr>\n    <tr>\n      <th>17</th>\n      <td>Monserrat</td>\n      <td>1.0</td>\n      <td>-34.606594</td>\n      <td>-58.366739</td>\n      <td>18</td>\n    </tr>\n    <tr>\n      <th>18</th>\n      <td>Monte Castro</td>\n      <td>10.0</td>\n      <td>-34.609304</td>\n      <td>-58.492647</td>\n      <td>19</td>\n    </tr>\n    <tr>\n      <th>19</th>\n      <td>Nueva Pompeya</td>\n      <td>4.0</td>\n      <td>-34.638130</td>\n      <td>-58.401056</td>\n      <td>20</td>\n    </tr>\n    <tr>\n      <th>20</th>\n      <td>Nuñez</td>\n      <td>13.0</td>\n      <td>-34.528497</td>\n      <td>-58.449705</td>\n      <td>21</td>\n    </tr>\n    <tr>\n      <th>21</th>\n      <td>Palermo</td>\n      <td>14.0</td>\n      <td>-34.550941</td>\n      <td>-58.393186</td>\n      <td>22</td>\n    </tr>\n    <tr>\n      <th>22</th>\n      <td>Parque Avellaneda</td>\n      <td>9.0</td>\n      <td>-34.636869</td>\n      <td>-58.460837</td>\n      <td>23</td>\n    </tr>\n    <tr>\n      <th>23</th>\n      <td>Parque Chacabuco</td>\n      <td>7.0</td>\n      <td>-34.627011</td>\n      <td>-58.423494</td>\n      <td>24</td>\n    </tr>\n    <tr>\n      <th>24</th>\n      <td>Parque Chas</td>\n      <td>15.0</td>\n      <td>-34.579125</td>\n      <td>-58.470837</td>\n      <td>25</td>\n    </tr>\n    <tr>\n      <th>25</th>\n      <td>Parque Patricios</td>\n      <td>4.0</td>\n      <td>-34.627256</td>\n      <td>-58.389885</td>\n      <td>26</td>\n    </tr>\n    <tr>\n      <th>26</th>\n      <td>Paternal</td>\n      <td>15.0</td>\n      <td>-34.587511</td>\n      <td>-58.456251</td>\n      <td>27</td>\n    </tr>\n    <tr>\n      <th>27</th>\n      <td>Puerto Madero</td>\n      <td>1.0</td>\n      <td>-34.598181</td>\n      <td>-58.341017</td>\n      <td>28</td>\n    </tr>\n    <tr>\n      <th>28</th>\n      <td>Recoleta</td>\n      <td>2.0</td>\n      <td>-34.569360</td>\n      <td>-58.373980</td>\n      <td>29</td>\n    </tr>\n    <tr>\n      <th>29</th>\n      <td>Retiro</td>\n      <td>1.0</td>\n      <td>-34.578211</td>\n      <td>-58.364150</td>\n      <td>30</td>\n    </tr>\n    <tr>\n      <th>30</th>\n      <td>Saavedra</td>\n      <td>12.0</td>\n      <td>-34.538907</td>\n      <td>-58.468253</td>\n      <td>31</td>\n    </tr>\n    <tr>\n      <th>31</th>\n      <td>San Cristóbal</td>\n      <td>3.0</td>\n      <td>-34.618252</td>\n      <td>-58.391173</td>\n      <td>32</td>\n    </tr>\n    <tr>\n      <th>32</th>\n      <td>San Nicolás</td>\n      <td>1.0</td>\n      <td>-34.598391</td>\n      <td>-58.367736</td>\n      <td>33</td>\n    </tr>\n    <tr>\n      <th>33</th>\n      <td>San Telmo</td>\n      <td>1.0</td>\n      <td>-34.615725</td>\n      <td>-58.363460</td>\n      <td>34</td>\n    </tr>\n    <tr>\n      <th>34</th>\n      <td>Versalles</td>\n      <td>10.0</td>\n      <td>-34.623737</td>\n      <td>-58.508769</td>\n      <td>35</td>\n    </tr>\n    <tr>\n      <th>35</th>\n      <td>Villa Crespo</td>\n      <td>15.0</td>\n      <td>-34.588690</td>\n      <td>-58.423393</td>\n      <td>36</td>\n    </tr>\n    <tr>\n      <th>36</th>\n      <td>Villa Del Parque</td>\n      <td>11.0</td>\n      <td>-34.597012</td>\n      <td>-58.474341</td>\n      <td>37</td>\n    </tr>\n    <tr>\n      <th>37</th>\n      <td>Villa Devoto</td>\n      <td>11.0</td>\n      <td>-34.581548</td>\n      <td>-58.497645</td>\n      <td>38</td>\n    </tr>\n    <tr>\n      <th>38</th>\n      <td>Villa Gral. Mitre</td>\n      <td>11.0</td>\n      <td>-34.601966</td>\n      <td>-58.458612</td>\n      <td>39</td>\n    </tr>\n    <tr>\n      <th>39</th>\n      <td>Villa Lugano</td>\n      <td>8.0</td>\n      <td>-34.657945</td>\n      <td>-58.450666</td>\n      <td>40</td>\n    </tr>\n    <tr>\n      <th>40</th>\n      <td>Villa Luro</td>\n      <td>10.0</td>\n      <td>-34.624419</td>\n      <td>-58.488302</td>\n      <td>41</td>\n    </tr>\n    <tr>\n      <th>41</th>\n      <td>Villa Ortuzar</td>\n      <td>15.0</td>\n      <td>-34.572497</td>\n      <td>-58.460466</td>\n      <td>42</td>\n    </tr>\n    <tr>\n      <th>42</th>\n      <td>Villa Pueyrredón</td>\n      <td>12.0</td>\n      <td>-34.569827</td>\n      <td>-58.488813</td>\n      <td>43</td>\n    </tr>\n    <tr>\n      <th>43</th>\n      <td>Villa Real</td>\n      <td>10.0</td>\n      <td>-34.611310</td>\n      <td>-58.517076</td>\n      <td>44</td>\n    </tr>\n    <tr>\n      <th>44</th>\n      <td>Villa Riachuelo</td>\n      <td>8.0</td>\n      <td>-34.680488</td>\n      <td>-58.448987</td>\n      <td>45</td>\n    </tr>\n    <tr>\n      <th>45</th>\n      <td>Villa Santa Rita</td>\n      <td>11.0</td>\n      <td>-34.608318</td>\n      <td>-58.471655</td>\n      <td>46</td>\n    </tr>\n    <tr>\n      <th>46</th>\n      <td>Villa Soldati</td>\n      <td>8.0</td>\n      <td>-34.650872</td>\n      <td>-58.424464</td>\n      <td>47</td>\n    </tr>\n    <tr>\n      <th>47</th>\n      <td>Villa Urquiza</td>\n      <td>12.0</td>\n      <td>-34.559173</td>\n      <td>-58.468283</td>\n      <td>48</td>\n    </tr>\n    <tr>\n      <th>48</th>\n      <td>Villa del Parque</td>\n      <td>11.0</td>\n      <td>-34.596839</td>\n      <td>-58.474017</td>\n      <td>49</td>\n    </tr>\n    <tr>\n      <th>49</th>\n      <td>Vélez Sársfield</td>\n      <td>10.0</td>\n      <td>-34.621438</td>\n      <td>-58.478587</td>\n      <td>50</td>\n    </tr>\n  </tbody>\n</table>\n</div>"
     },
     "execution_count": 75,
     "metadata": {},
     "output_type": "execute_result"
    }
   ],
   "source": [
    "# TABLA LUGARES\n",
    "lugares_csv = csv[['barrio', 'comuna', 'latitud', 'longitud']]\n",
    "# remove the ones that don't have latitud or longitud\n",
    "lugares_csv = lugares_csv.dropna()\n",
    "# convert latitud and longitud to numeric if they are not\n",
    "lugares_csv['latitud'] = pd.to_numeric(lugares_csv['latitud'], errors='coerce')\n",
    "lugares_csv['longitud'] = pd.to_numeric(lugares_csv['longitud'], errors='coerce')\n",
    "lugares_csv = lugares_csv.groupby(['barrio', 'comuna']).max()\n",
    "# if it is smaller than -75 it means there is an error, multiply it by 0.001\n",
    "lugares_csv['latitud'] = lugares_csv['latitud'].apply(lambda x: x * 0.001 if x < -75 else x)\n",
    "lugares_csv['longitud'] = lugares_csv['longitud'].apply(lambda x: x * 0.001 if x < -75 else x)\n",
    "lugares_csv = lugares_csv.reset_index()\n",
    "lugares_csv['id'] = lugares_csv.index + 1\n",
    "lugares_csv"
   ],
   "metadata": {
    "collapsed": false
   }
  },
  {
   "cell_type": "code",
   "execution_count": 76,
   "outputs": [
    {
     "data": {
      "text/plain": "       uso_armas  id\n0      Sin Datos   1\n1  Arma cortante   2\n2  Arma de fuego   3",
      "text/html": "<div>\n<style scoped>\n    .dataframe tbody tr th:only-of-type {\n        vertical-align: middle;\n    }\n\n    .dataframe tbody tr th {\n        vertical-align: top;\n    }\n\n    .dataframe thead th {\n        text-align: right;\n    }\n</style>\n<table border=\"1\" class=\"dataframe\">\n  <thead>\n    <tr style=\"text-align: right;\">\n      <th></th>\n      <th>uso_armas</th>\n      <th>id</th>\n    </tr>\n  </thead>\n  <tbody>\n    <tr>\n      <th>0</th>\n      <td>Sin Datos</td>\n      <td>1</td>\n    </tr>\n    <tr>\n      <th>1</th>\n      <td>Arma cortante</td>\n      <td>2</td>\n    </tr>\n    <tr>\n      <th>2</th>\n      <td>Arma de fuego</td>\n      <td>3</td>\n    </tr>\n  </tbody>\n</table>\n</div>"
     },
     "execution_count": 76,
     "metadata": {},
     "output_type": "execute_result"
    }
   ],
   "source": [
    "# TABLA TIPO DE ARMA\n",
    "armas_csv = csv[['uso_armas']]\n",
    "armas_csv = armas_csv.drop_duplicates(ignore_index=True)\n",
    "armas_csv['id'] = armas_csv.index + 1\n",
    "armas_csv"
   ],
   "metadata": {
    "collapsed": false
   }
  },
  {
   "cell_type": "code",
   "execution_count": 77,
   "outputs": [
    {
     "data": {
      "text/plain": "            fecha franja                   tipo         subtipo  comuna   \n0      01-01-2016     13   Robo (con violencia)            Robo     9.0  \\\n1      01-01-2016     22   Robo (con violencia)            Robo    14.0   \n2      01-01-2016      1               Lesiones  Siniestro Vial     4.0   \n3      01-01-2016     19  Hurto (sin violencia)            Robo     9.0   \n4      01-01-2016      4   Robo (con violencia)  Robo Automotor     6.0   \n...           ...    ...                    ...             ...     ...   \n66720    31-12-20      4   Robo (con violencia)            Robo     4.0   \n66721    31-12-20     16   Robo (con violencia)            Robo     1.0   \n66722    31-12-20     13   Robo (con violencia)            Robo     4.0   \n66723    31-12-20      4   Robo (con violencia)            Robo     4.0   \n66724    31-12-20      9   Robo (con violencia)            Robo     4.0   \n\n                  barrio     latitud    longitud  mes      dia  anio   \n0      Parque Avellaneda   -34.64873  -58.468536    1  Viernes  2016  \\\n1                Palermo  -34.576925    -58.4074    1  Viernes  2016   \n2       Parque Patricios  -34.645197  -58.401099    1  Viernes  2016   \n3      Parque Avellaneda   -34.65576  -58.478681    1  Viernes  2016   \n4              Caballito  -34.624128  -58.436826    1  Viernes  2016   \n...                  ...         ...         ...  ...      ...   ...   \n66720           Barracas  -34.635561  -58.369959   12   Jueves    20   \n66721          San Telmo  -34.619242  -58.366333   12   Jueves    20   \n66722               Boca  -34.636337  -58.361306   12   Jueves    20   \n66723               Boca  -34.627914  -58.360876   12   Jueves    20   \n66724               Boca  -34.634491   -58.35938   12   Jueves    20   \n\n           uso_armas  victimas  nro_dia  \n0          Sin Datos       NaN        1  \n1          Sin Datos       NaN        1  \n2          Sin Datos       NaN        1  \n3          Sin Datos       NaN        1  \n4          Sin Datos       NaN        1  \n...              ...       ...      ...  \n66720      Sin Datos       NaN       31  \n66721      Sin Datos       NaN       31  \n66722  Arma de fuego       NaN       31  \n66723      Sin Datos       NaN       31  \n66724      Sin Datos       NaN       31  \n\n[560089 rows x 14 columns]",
      "text/html": "<div>\n<style scoped>\n    .dataframe tbody tr th:only-of-type {\n        vertical-align: middle;\n    }\n\n    .dataframe tbody tr th {\n        vertical-align: top;\n    }\n\n    .dataframe thead th {\n        text-align: right;\n    }\n</style>\n<table border=\"1\" class=\"dataframe\">\n  <thead>\n    <tr style=\"text-align: right;\">\n      <th></th>\n      <th>fecha</th>\n      <th>franja</th>\n      <th>tipo</th>\n      <th>subtipo</th>\n      <th>comuna</th>\n      <th>barrio</th>\n      <th>latitud</th>\n      <th>longitud</th>\n      <th>mes</th>\n      <th>dia</th>\n      <th>anio</th>\n      <th>uso_armas</th>\n      <th>victimas</th>\n      <th>nro_dia</th>\n    </tr>\n  </thead>\n  <tbody>\n    <tr>\n      <th>0</th>\n      <td>01-01-2016</td>\n      <td>13</td>\n      <td>Robo (con violencia)</td>\n      <td>Robo</td>\n      <td>9.0</td>\n      <td>Parque Avellaneda</td>\n      <td>-34.64873</td>\n      <td>-58.468536</td>\n      <td>1</td>\n      <td>Viernes</td>\n      <td>2016</td>\n      <td>Sin Datos</td>\n      <td>NaN</td>\n      <td>1</td>\n    </tr>\n    <tr>\n      <th>1</th>\n      <td>01-01-2016</td>\n      <td>22</td>\n      <td>Robo (con violencia)</td>\n      <td>Robo</td>\n      <td>14.0</td>\n      <td>Palermo</td>\n      <td>-34.576925</td>\n      <td>-58.4074</td>\n      <td>1</td>\n      <td>Viernes</td>\n      <td>2016</td>\n      <td>Sin Datos</td>\n      <td>NaN</td>\n      <td>1</td>\n    </tr>\n    <tr>\n      <th>2</th>\n      <td>01-01-2016</td>\n      <td>1</td>\n      <td>Lesiones</td>\n      <td>Siniestro Vial</td>\n      <td>4.0</td>\n      <td>Parque Patricios</td>\n      <td>-34.645197</td>\n      <td>-58.401099</td>\n      <td>1</td>\n      <td>Viernes</td>\n      <td>2016</td>\n      <td>Sin Datos</td>\n      <td>NaN</td>\n      <td>1</td>\n    </tr>\n    <tr>\n      <th>3</th>\n      <td>01-01-2016</td>\n      <td>19</td>\n      <td>Hurto (sin violencia)</td>\n      <td>Robo</td>\n      <td>9.0</td>\n      <td>Parque Avellaneda</td>\n      <td>-34.65576</td>\n      <td>-58.478681</td>\n      <td>1</td>\n      <td>Viernes</td>\n      <td>2016</td>\n      <td>Sin Datos</td>\n      <td>NaN</td>\n      <td>1</td>\n    </tr>\n    <tr>\n      <th>4</th>\n      <td>01-01-2016</td>\n      <td>4</td>\n      <td>Robo (con violencia)</td>\n      <td>Robo Automotor</td>\n      <td>6.0</td>\n      <td>Caballito</td>\n      <td>-34.624128</td>\n      <td>-58.436826</td>\n      <td>1</td>\n      <td>Viernes</td>\n      <td>2016</td>\n      <td>Sin Datos</td>\n      <td>NaN</td>\n      <td>1</td>\n    </tr>\n    <tr>\n      <th>...</th>\n      <td>...</td>\n      <td>...</td>\n      <td>...</td>\n      <td>...</td>\n      <td>...</td>\n      <td>...</td>\n      <td>...</td>\n      <td>...</td>\n      <td>...</td>\n      <td>...</td>\n      <td>...</td>\n      <td>...</td>\n      <td>...</td>\n      <td>...</td>\n    </tr>\n    <tr>\n      <th>66720</th>\n      <td>31-12-20</td>\n      <td>4</td>\n      <td>Robo (con violencia)</td>\n      <td>Robo</td>\n      <td>4.0</td>\n      <td>Barracas</td>\n      <td>-34.635561</td>\n      <td>-58.369959</td>\n      <td>12</td>\n      <td>Jueves</td>\n      <td>20</td>\n      <td>Sin Datos</td>\n      <td>NaN</td>\n      <td>31</td>\n    </tr>\n    <tr>\n      <th>66721</th>\n      <td>31-12-20</td>\n      <td>16</td>\n      <td>Robo (con violencia)</td>\n      <td>Robo</td>\n      <td>1.0</td>\n      <td>San Telmo</td>\n      <td>-34.619242</td>\n      <td>-58.366333</td>\n      <td>12</td>\n      <td>Jueves</td>\n      <td>20</td>\n      <td>Sin Datos</td>\n      <td>NaN</td>\n      <td>31</td>\n    </tr>\n    <tr>\n      <th>66722</th>\n      <td>31-12-20</td>\n      <td>13</td>\n      <td>Robo (con violencia)</td>\n      <td>Robo</td>\n      <td>4.0</td>\n      <td>Boca</td>\n      <td>-34.636337</td>\n      <td>-58.361306</td>\n      <td>12</td>\n      <td>Jueves</td>\n      <td>20</td>\n      <td>Arma de fuego</td>\n      <td>NaN</td>\n      <td>31</td>\n    </tr>\n    <tr>\n      <th>66723</th>\n      <td>31-12-20</td>\n      <td>4</td>\n      <td>Robo (con violencia)</td>\n      <td>Robo</td>\n      <td>4.0</td>\n      <td>Boca</td>\n      <td>-34.627914</td>\n      <td>-58.360876</td>\n      <td>12</td>\n      <td>Jueves</td>\n      <td>20</td>\n      <td>Sin Datos</td>\n      <td>NaN</td>\n      <td>31</td>\n    </tr>\n    <tr>\n      <th>66724</th>\n      <td>31-12-20</td>\n      <td>9</td>\n      <td>Robo (con violencia)</td>\n      <td>Robo</td>\n      <td>4.0</td>\n      <td>Boca</td>\n      <td>-34.634491</td>\n      <td>-58.35938</td>\n      <td>12</td>\n      <td>Jueves</td>\n      <td>20</td>\n      <td>Sin Datos</td>\n      <td>NaN</td>\n      <td>31</td>\n    </tr>\n  </tbody>\n</table>\n<p>560089 rows × 14 columns</p>\n</div>"
     },
     "execution_count": 77,
     "metadata": {},
     "output_type": "execute_result"
    }
   ],
   "source": [
    "# TABLA DELITOS\n",
    "delitos_csv = csv\n",
    "delitos_csv"
   ],
   "metadata": {
    "collapsed": false
   }
  },
  {
   "cell_type": "code",
   "execution_count": 78,
   "outputs": [
    {
     "data": {
      "text/plain": "             fecha franja                   tipo         subtipo  comuna   \n0       01-01-2016     13   Robo (con violencia)            Robo     9.0  \\\n1       01-01-2016     22   Robo (con violencia)            Robo    14.0   \n2       01-01-2016      1               Lesiones  Siniestro Vial     4.0   \n3       01-01-2016     19  Hurto (sin violencia)            Robo     9.0   \n4       01-01-2016      4   Robo (con violencia)  Robo Automotor     6.0   \n...            ...    ...                    ...             ...     ...   \n560084    31-12-20     11   Robo (con violencia)            Robo     4.0   \n560085    31-12-20     12   Robo (con violencia)            Robo     2.0   \n560086    31-12-20     17   Robo (con violencia)            Robo     1.0   \n560087    31-12-20     18   Robo (con violencia)            Robo     4.0   \n560088    31-12-20     13   Robo (con violencia)            Robo     4.0   \n\n                   barrio     latitud    longitud  mes      dia  anio   \n0       Parque Avellaneda   -34.64873  -58.468536    1  Viernes  2016  \\\n1                 Palermo  -34.576925    -58.4074    1  Viernes  2016   \n2        Parque Patricios  -34.645197  -58.401099    1  Viernes  2016   \n3       Parque Avellaneda   -34.65576  -58.478681    1  Viernes  2016   \n4               Caballito  -34.624128  -58.436826    1  Viernes  2016   \n...                   ...         ...         ...  ...      ...   ...   \n560084      Nueva Pompeya  -34.648257  -58.403787   12   Jueves    20   \n560085           Recoleta  -34.577698  -58.387302   12   Jueves    20   \n560086             Retiro  -34.598079  -58.384101   12   Jueves    20   \n560087           Barracas  -34.642953  -58.379417   12   Jueves    20   \n560088               Boca  -34.636337  -58.361306   12   Jueves    20   \n\n            uso_armas  victimas  nro_dia  arma_id  \n0           Sin Datos       NaN        1        1  \n1           Sin Datos       NaN        1        1  \n2           Sin Datos       NaN        1        1  \n3           Sin Datos       NaN        1        1  \n4           Sin Datos       NaN        1        1  \n...               ...       ...      ...      ...  \n560084  Arma de fuego       NaN       31        3  \n560085  Arma de fuego       NaN       31        3  \n560086  Arma de fuego       NaN       31        3  \n560087  Arma de fuego       NaN       31        3  \n560088  Arma de fuego       NaN       31        3  \n\n[560089 rows x 15 columns]",
      "text/html": "<div>\n<style scoped>\n    .dataframe tbody tr th:only-of-type {\n        vertical-align: middle;\n    }\n\n    .dataframe tbody tr th {\n        vertical-align: top;\n    }\n\n    .dataframe thead th {\n        text-align: right;\n    }\n</style>\n<table border=\"1\" class=\"dataframe\">\n  <thead>\n    <tr style=\"text-align: right;\">\n      <th></th>\n      <th>fecha</th>\n      <th>franja</th>\n      <th>tipo</th>\n      <th>subtipo</th>\n      <th>comuna</th>\n      <th>barrio</th>\n      <th>latitud</th>\n      <th>longitud</th>\n      <th>mes</th>\n      <th>dia</th>\n      <th>anio</th>\n      <th>uso_armas</th>\n      <th>victimas</th>\n      <th>nro_dia</th>\n      <th>arma_id</th>\n    </tr>\n  </thead>\n  <tbody>\n    <tr>\n      <th>0</th>\n      <td>01-01-2016</td>\n      <td>13</td>\n      <td>Robo (con violencia)</td>\n      <td>Robo</td>\n      <td>9.0</td>\n      <td>Parque Avellaneda</td>\n      <td>-34.64873</td>\n      <td>-58.468536</td>\n      <td>1</td>\n      <td>Viernes</td>\n      <td>2016</td>\n      <td>Sin Datos</td>\n      <td>NaN</td>\n      <td>1</td>\n      <td>1</td>\n    </tr>\n    <tr>\n      <th>1</th>\n      <td>01-01-2016</td>\n      <td>22</td>\n      <td>Robo (con violencia)</td>\n      <td>Robo</td>\n      <td>14.0</td>\n      <td>Palermo</td>\n      <td>-34.576925</td>\n      <td>-58.4074</td>\n      <td>1</td>\n      <td>Viernes</td>\n      <td>2016</td>\n      <td>Sin Datos</td>\n      <td>NaN</td>\n      <td>1</td>\n      <td>1</td>\n    </tr>\n    <tr>\n      <th>2</th>\n      <td>01-01-2016</td>\n      <td>1</td>\n      <td>Lesiones</td>\n      <td>Siniestro Vial</td>\n      <td>4.0</td>\n      <td>Parque Patricios</td>\n      <td>-34.645197</td>\n      <td>-58.401099</td>\n      <td>1</td>\n      <td>Viernes</td>\n      <td>2016</td>\n      <td>Sin Datos</td>\n      <td>NaN</td>\n      <td>1</td>\n      <td>1</td>\n    </tr>\n    <tr>\n      <th>3</th>\n      <td>01-01-2016</td>\n      <td>19</td>\n      <td>Hurto (sin violencia)</td>\n      <td>Robo</td>\n      <td>9.0</td>\n      <td>Parque Avellaneda</td>\n      <td>-34.65576</td>\n      <td>-58.478681</td>\n      <td>1</td>\n      <td>Viernes</td>\n      <td>2016</td>\n      <td>Sin Datos</td>\n      <td>NaN</td>\n      <td>1</td>\n      <td>1</td>\n    </tr>\n    <tr>\n      <th>4</th>\n      <td>01-01-2016</td>\n      <td>4</td>\n      <td>Robo (con violencia)</td>\n      <td>Robo Automotor</td>\n      <td>6.0</td>\n      <td>Caballito</td>\n      <td>-34.624128</td>\n      <td>-58.436826</td>\n      <td>1</td>\n      <td>Viernes</td>\n      <td>2016</td>\n      <td>Sin Datos</td>\n      <td>NaN</td>\n      <td>1</td>\n      <td>1</td>\n    </tr>\n    <tr>\n      <th>...</th>\n      <td>...</td>\n      <td>...</td>\n      <td>...</td>\n      <td>...</td>\n      <td>...</td>\n      <td>...</td>\n      <td>...</td>\n      <td>...</td>\n      <td>...</td>\n      <td>...</td>\n      <td>...</td>\n      <td>...</td>\n      <td>...</td>\n      <td>...</td>\n      <td>...</td>\n    </tr>\n    <tr>\n      <th>560084</th>\n      <td>31-12-20</td>\n      <td>11</td>\n      <td>Robo (con violencia)</td>\n      <td>Robo</td>\n      <td>4.0</td>\n      <td>Nueva Pompeya</td>\n      <td>-34.648257</td>\n      <td>-58.403787</td>\n      <td>12</td>\n      <td>Jueves</td>\n      <td>20</td>\n      <td>Arma de fuego</td>\n      <td>NaN</td>\n      <td>31</td>\n      <td>3</td>\n    </tr>\n    <tr>\n      <th>560085</th>\n      <td>31-12-20</td>\n      <td>12</td>\n      <td>Robo (con violencia)</td>\n      <td>Robo</td>\n      <td>2.0</td>\n      <td>Recoleta</td>\n      <td>-34.577698</td>\n      <td>-58.387302</td>\n      <td>12</td>\n      <td>Jueves</td>\n      <td>20</td>\n      <td>Arma de fuego</td>\n      <td>NaN</td>\n      <td>31</td>\n      <td>3</td>\n    </tr>\n    <tr>\n      <th>560086</th>\n      <td>31-12-20</td>\n      <td>17</td>\n      <td>Robo (con violencia)</td>\n      <td>Robo</td>\n      <td>1.0</td>\n      <td>Retiro</td>\n      <td>-34.598079</td>\n      <td>-58.384101</td>\n      <td>12</td>\n      <td>Jueves</td>\n      <td>20</td>\n      <td>Arma de fuego</td>\n      <td>NaN</td>\n      <td>31</td>\n      <td>3</td>\n    </tr>\n    <tr>\n      <th>560087</th>\n      <td>31-12-20</td>\n      <td>18</td>\n      <td>Robo (con violencia)</td>\n      <td>Robo</td>\n      <td>4.0</td>\n      <td>Barracas</td>\n      <td>-34.642953</td>\n      <td>-58.379417</td>\n      <td>12</td>\n      <td>Jueves</td>\n      <td>20</td>\n      <td>Arma de fuego</td>\n      <td>NaN</td>\n      <td>31</td>\n      <td>3</td>\n    </tr>\n    <tr>\n      <th>560088</th>\n      <td>31-12-20</td>\n      <td>13</td>\n      <td>Robo (con violencia)</td>\n      <td>Robo</td>\n      <td>4.0</td>\n      <td>Boca</td>\n      <td>-34.636337</td>\n      <td>-58.361306</td>\n      <td>12</td>\n      <td>Jueves</td>\n      <td>20</td>\n      <td>Arma de fuego</td>\n      <td>NaN</td>\n      <td>31</td>\n      <td>3</td>\n    </tr>\n  </tbody>\n</table>\n<p>560089 rows × 15 columns</p>\n</div>"
     },
     "execution_count": 78,
     "metadata": {},
     "output_type": "execute_result"
    }
   ],
   "source": [
    "# replace uso_armas for arma_id\n",
    "delitos_csv = delitos_csv.merge(armas_csv, left_on=['uso_armas'], right_on=['uso_armas'])\n",
    "delitos_csv = delitos_csv.rename(columns={'id': 'arma_id'})\n",
    "delitos_csv"
   ],
   "metadata": {
    "collapsed": false
   }
  },
  {
   "cell_type": "code",
   "execution_count": 79,
   "outputs": [],
   "source": [
    "# replace barrio for lugar_id\n",
    "delitos_csv = delitos_csv.merge(lugares_csv, left_on=['barrio'], right_on=['barrio'])\n",
    "delitos_csv = delitos_csv.rename(columns={'id': 'lugar_id'})\n",
    "delitos_csv = delitos_csv.drop(columns=['barrio'])"
   ],
   "metadata": {
    "collapsed": false
   }
  },
  {
   "cell_type": "code",
   "execution_count": 80,
   "outputs": [],
   "source": [
    "# replace tipo for tipo_id\n",
    "delitos_csv = delitos_csv.merge(tipos_csv, left_on=['tipo', 'subtipo'], right_on=['tipo', 'subtipo'])\n",
    "delitos_csv = delitos_csv.rename(columns={'id': 'tipo_id'})\n",
    "delitos_csv = delitos_csv.drop(columns=['tipo', 'subtipo'])"
   ],
   "metadata": {
    "collapsed": false
   }
  },
  {
   "cell_type": "code",
   "execution_count": 81,
   "outputs": [],
   "source": [
    "# # replace fecha for tiempo_id\n",
    "delitos_csv = delitos_csv.merge(tiempos_csv, left_on=['fecha', 'franja'], right_on=['fecha', 'franja'])\n",
    "delitos_csv = delitos_csv.rename(columns={'id': 'tiempo_id'})\n",
    "delitos_csv = delitos_csv.drop(columns=['fecha'])"
   ],
   "metadata": {
    "collapsed": false
   }
  },
  {
   "cell_type": "code",
   "execution_count": 82,
   "outputs": [],
   "source": [
    "# create a victimas column with random values\n",
    "delitos_csv['victimas'] = delitos_csv.index\n",
    "delitos_csv['costo'] = delitos_csv.index\n",
    "delitos_csv['victimas'] = delitos_csv['victimas'].apply(lambda x: random.randint(0, 5))\n",
    "delitos_csv['costo'] = delitos_csv['costo'].apply(lambda x: random.randint(0, 100000))"
   ],
   "metadata": {
    "collapsed": false
   }
  },
  {
   "cell_type": "code",
   "execution_count": 83,
   "outputs": [
    {
     "data": {
      "text/plain": "        lugar_id  tiempo_id  arma_id  tipo_id  victimas  costo\n0             23          1        1        1         3   9640\n1              6          1        1        1         2  77811\n2              3          1        1        3         3   2822\n3             23         20        1        1         3   3184\n4             19         20        1        1         3  45452\n...          ...        ...      ...      ...       ...    ...\n551392        41      45467        3       10         3  13141\n551393        24      44751        3       10         1  78003\n551394        24      45479        3       10         5    453\n551395        31      45962        3       10         2  35910\n551396        22      45327        1        9         1  24310\n\n[551397 rows x 6 columns]",
      "text/html": "<div>\n<style scoped>\n    .dataframe tbody tr th:only-of-type {\n        vertical-align: middle;\n    }\n\n    .dataframe tbody tr th {\n        vertical-align: top;\n    }\n\n    .dataframe thead th {\n        text-align: right;\n    }\n</style>\n<table border=\"1\" class=\"dataframe\">\n  <thead>\n    <tr style=\"text-align: right;\">\n      <th></th>\n      <th>lugar_id</th>\n      <th>tiempo_id</th>\n      <th>arma_id</th>\n      <th>tipo_id</th>\n      <th>victimas</th>\n      <th>costo</th>\n    </tr>\n  </thead>\n  <tbody>\n    <tr>\n      <th>0</th>\n      <td>23</td>\n      <td>1</td>\n      <td>1</td>\n      <td>1</td>\n      <td>3</td>\n      <td>9640</td>\n    </tr>\n    <tr>\n      <th>1</th>\n      <td>6</td>\n      <td>1</td>\n      <td>1</td>\n      <td>1</td>\n      <td>2</td>\n      <td>77811</td>\n    </tr>\n    <tr>\n      <th>2</th>\n      <td>3</td>\n      <td>1</td>\n      <td>1</td>\n      <td>3</td>\n      <td>3</td>\n      <td>2822</td>\n    </tr>\n    <tr>\n      <th>3</th>\n      <td>23</td>\n      <td>20</td>\n      <td>1</td>\n      <td>1</td>\n      <td>3</td>\n      <td>3184</td>\n    </tr>\n    <tr>\n      <th>4</th>\n      <td>19</td>\n      <td>20</td>\n      <td>1</td>\n      <td>1</td>\n      <td>3</td>\n      <td>45452</td>\n    </tr>\n    <tr>\n      <th>...</th>\n      <td>...</td>\n      <td>...</td>\n      <td>...</td>\n      <td>...</td>\n      <td>...</td>\n      <td>...</td>\n    </tr>\n    <tr>\n      <th>551392</th>\n      <td>41</td>\n      <td>45467</td>\n      <td>3</td>\n      <td>10</td>\n      <td>3</td>\n      <td>13141</td>\n    </tr>\n    <tr>\n      <th>551393</th>\n      <td>24</td>\n      <td>44751</td>\n      <td>3</td>\n      <td>10</td>\n      <td>1</td>\n      <td>78003</td>\n    </tr>\n    <tr>\n      <th>551394</th>\n      <td>24</td>\n      <td>45479</td>\n      <td>3</td>\n      <td>10</td>\n      <td>5</td>\n      <td>453</td>\n    </tr>\n    <tr>\n      <th>551395</th>\n      <td>31</td>\n      <td>45962</td>\n      <td>3</td>\n      <td>10</td>\n      <td>2</td>\n      <td>35910</td>\n    </tr>\n    <tr>\n      <th>551396</th>\n      <td>22</td>\n      <td>45327</td>\n      <td>1</td>\n      <td>9</td>\n      <td>1</td>\n      <td>24310</td>\n    </tr>\n  </tbody>\n</table>\n<p>551397 rows × 6 columns</p>\n</div>"
     },
     "execution_count": 83,
     "metadata": {},
     "output_type": "execute_result"
    }
   ],
   "source": [
    "delitos_csv = delitos_csv[['lugar_id', 'tiempo_id', 'arma_id', 'tipo_id', 'victimas', 'costo']]\n",
    "delitos_csv"
   ],
   "metadata": {
    "collapsed": false
   }
  },
  {
   "cell_type": "code",
   "execution_count": 84,
   "outputs": [],
   "source": [
    "# save csvs to files\n",
    "tiempos_csv.to_csv('output/tiempos.csv', index=False)\n",
    "lugares_csv.to_csv('output/lugares.csv', index=False)\n",
    "armas_csv.to_csv('output/armas.csv', index=False)\n",
    "delitos_csv.to_csv('output/delitos.csv', index=False)\n",
    "tipos_csv.to_csv('output/tipos.csv', index=False)"
   ],
   "metadata": {
    "collapsed": false
   }
  }
 ],
 "metadata": {
  "kernelspec": {
   "display_name": "Python 3",
   "language": "python",
   "name": "python3"
  },
  "language_info": {
   "codemirror_mode": {
    "name": "ipython",
    "version": 2
   },
   "file_extension": ".py",
   "mimetype": "text/x-python",
   "name": "python",
   "nbconvert_exporter": "python",
   "pygments_lexer": "ipython2",
   "version": "2.7.6"
  }
 },
 "nbformat": 4,
 "nbformat_minor": 0
}
