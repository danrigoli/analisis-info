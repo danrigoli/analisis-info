{
 "cells": [
  {
   "cell_type": "code",
   "execution_count": 196,
   "metadata": {
    "collapsed": true
   },
   "outputs": [],
   "source": [
    "import pandas as pd\n",
    "import random"
   ]
  },
  {
   "cell_type": "code",
   "execution_count": 197,
   "outputs": [],
   "source": [
    "csv = pd.read_csv('input/delitos_2020.csv')"
   ],
   "metadata": {
    "collapsed": false
   }
  },
  {
   "cell_type": "code",
   "execution_count": 198,
   "outputs": [
    {
     "data": {
      "text/plain": "           id_mapa  anio    mes        dia     fecha franja   \n0  RH-2020-0000480  2020  Enero  Miércoles  01/01/20     10  \\\n1  HD-2020-0001119  2020  Enero  Miércoles  01/01/20     22   \n2  RH-2020-0001140  2020  Enero  Miércoles  01/01/20     19   \n3  RH-2020-0001187  2020  Enero  Miércoles  01/01/20     17   \n4  RH-2020-0010817  2020  Enero  Miércoles  01/01/20      2   \n\n                    tipo    subtipo uso_armas        barrio  comuna   \n0  Hurto (sin violencia)        NaN       NaN     Versalles    10.0  \\\n1              Homicidio  Femicidio       NaN  Villa Devoto    11.0   \n2   Robo (con violencia)        NaN       NaN     Versalles    10.0   \n3   Robo (con violencia)        NaN       NaN     Versalles    10.0   \n4  Hurto (sin violencia)        NaN       NaN  Villa Devoto    11.0   \n\n      latitud    longitud  victimas  \n0  -34.626641  -58.527606       NaN  \n1  -34.611268  -58.525386       1.0  \n2  -34.625434  -58.525013       NaN  \n3  -34.625434  -58.525013       NaN  \n4  -34.606789  -58.520726       NaN  ",
      "text/html": "<div>\n<style scoped>\n    .dataframe tbody tr th:only-of-type {\n        vertical-align: middle;\n    }\n\n    .dataframe tbody tr th {\n        vertical-align: top;\n    }\n\n    .dataframe thead th {\n        text-align: right;\n    }\n</style>\n<table border=\"1\" class=\"dataframe\">\n  <thead>\n    <tr style=\"text-align: right;\">\n      <th></th>\n      <th>id_mapa</th>\n      <th>anio</th>\n      <th>mes</th>\n      <th>dia</th>\n      <th>fecha</th>\n      <th>franja</th>\n      <th>tipo</th>\n      <th>subtipo</th>\n      <th>uso_armas</th>\n      <th>barrio</th>\n      <th>comuna</th>\n      <th>latitud</th>\n      <th>longitud</th>\n      <th>victimas</th>\n    </tr>\n  </thead>\n  <tbody>\n    <tr>\n      <th>0</th>\n      <td>RH-2020-0000480</td>\n      <td>2020</td>\n      <td>Enero</td>\n      <td>Miércoles</td>\n      <td>01/01/20</td>\n      <td>10</td>\n      <td>Hurto (sin violencia)</td>\n      <td>NaN</td>\n      <td>NaN</td>\n      <td>Versalles</td>\n      <td>10.0</td>\n      <td>-34.626641</td>\n      <td>-58.527606</td>\n      <td>NaN</td>\n    </tr>\n    <tr>\n      <th>1</th>\n      <td>HD-2020-0001119</td>\n      <td>2020</td>\n      <td>Enero</td>\n      <td>Miércoles</td>\n      <td>01/01/20</td>\n      <td>22</td>\n      <td>Homicidio</td>\n      <td>Femicidio</td>\n      <td>NaN</td>\n      <td>Villa Devoto</td>\n      <td>11.0</td>\n      <td>-34.611268</td>\n      <td>-58.525386</td>\n      <td>1.0</td>\n    </tr>\n    <tr>\n      <th>2</th>\n      <td>RH-2020-0001140</td>\n      <td>2020</td>\n      <td>Enero</td>\n      <td>Miércoles</td>\n      <td>01/01/20</td>\n      <td>19</td>\n      <td>Robo (con violencia)</td>\n      <td>NaN</td>\n      <td>NaN</td>\n      <td>Versalles</td>\n      <td>10.0</td>\n      <td>-34.625434</td>\n      <td>-58.525013</td>\n      <td>NaN</td>\n    </tr>\n    <tr>\n      <th>3</th>\n      <td>RH-2020-0001187</td>\n      <td>2020</td>\n      <td>Enero</td>\n      <td>Miércoles</td>\n      <td>01/01/20</td>\n      <td>17</td>\n      <td>Robo (con violencia)</td>\n      <td>NaN</td>\n      <td>NaN</td>\n      <td>Versalles</td>\n      <td>10.0</td>\n      <td>-34.625434</td>\n      <td>-58.525013</td>\n      <td>NaN</td>\n    </tr>\n    <tr>\n      <th>4</th>\n      <td>RH-2020-0010817</td>\n      <td>2020</td>\n      <td>Enero</td>\n      <td>Miércoles</td>\n      <td>01/01/20</td>\n      <td>2</td>\n      <td>Hurto (sin violencia)</td>\n      <td>NaN</td>\n      <td>NaN</td>\n      <td>Villa Devoto</td>\n      <td>11.0</td>\n      <td>-34.606789</td>\n      <td>-58.520726</td>\n      <td>NaN</td>\n    </tr>\n  </tbody>\n</table>\n</div>"
     },
     "execution_count": 198,
     "metadata": {},
     "output_type": "execute_result"
    }
   ],
   "source": [
    "csv.head()"
   ],
   "metadata": {
    "collapsed": false
   }
  },
  {
   "cell_type": "code",
   "execution_count": 199,
   "outputs": [
    {
     "data": {
      "text/plain": "                     tipo                       subtipo  id\n0   Hurto (sin violencia)                          Robo   1\n1               Homicidio                     Femicidio   2\n2    Robo (con violencia)                          Robo   3\n3                Lesiones                Siniestro Vial   4\n4    Robo (con violencia)               Con uso de moto   5\n5   Hurto (sin violencia)               Hurto Automotor   6\n6    Robo (con violencia)                Robo Automotor   7\n7               Homicidio                Siniestro Vial   8\n8               Homicidio                        Doloso   9\n9               Homicidio       Femicidio Intrafamiliar  10\n10              Homicidio  Travesticidio/Transfemicidio  11",
      "text/html": "<div>\n<style scoped>\n    .dataframe tbody tr th:only-of-type {\n        vertical-align: middle;\n    }\n\n    .dataframe tbody tr th {\n        vertical-align: top;\n    }\n\n    .dataframe thead th {\n        text-align: right;\n    }\n</style>\n<table border=\"1\" class=\"dataframe\">\n  <thead>\n    <tr style=\"text-align: right;\">\n      <th></th>\n      <th>tipo</th>\n      <th>subtipo</th>\n      <th>id</th>\n    </tr>\n  </thead>\n  <tbody>\n    <tr>\n      <th>0</th>\n      <td>Hurto (sin violencia)</td>\n      <td>Robo</td>\n      <td>1</td>\n    </tr>\n    <tr>\n      <th>1</th>\n      <td>Homicidio</td>\n      <td>Femicidio</td>\n      <td>2</td>\n    </tr>\n    <tr>\n      <th>2</th>\n      <td>Robo (con violencia)</td>\n      <td>Robo</td>\n      <td>3</td>\n    </tr>\n    <tr>\n      <th>3</th>\n      <td>Lesiones</td>\n      <td>Siniestro Vial</td>\n      <td>4</td>\n    </tr>\n    <tr>\n      <th>4</th>\n      <td>Robo (con violencia)</td>\n      <td>Con uso de moto</td>\n      <td>5</td>\n    </tr>\n    <tr>\n      <th>5</th>\n      <td>Hurto (sin violencia)</td>\n      <td>Hurto Automotor</td>\n      <td>6</td>\n    </tr>\n    <tr>\n      <th>6</th>\n      <td>Robo (con violencia)</td>\n      <td>Robo Automotor</td>\n      <td>7</td>\n    </tr>\n    <tr>\n      <th>7</th>\n      <td>Homicidio</td>\n      <td>Siniestro Vial</td>\n      <td>8</td>\n    </tr>\n    <tr>\n      <th>8</th>\n      <td>Homicidio</td>\n      <td>Doloso</td>\n      <td>9</td>\n    </tr>\n    <tr>\n      <th>9</th>\n      <td>Homicidio</td>\n      <td>Femicidio Intrafamiliar</td>\n      <td>10</td>\n    </tr>\n    <tr>\n      <th>10</th>\n      <td>Homicidio</td>\n      <td>Travesticidio/Transfemicidio</td>\n      <td>11</td>\n    </tr>\n  </tbody>\n</table>\n</div>"
     },
     "execution_count": 199,
     "metadata": {},
     "output_type": "execute_result"
    }
   ],
   "source": [
    "# TABLA TIPOS\n",
    "tipos_csv = csv[['tipo', 'subtipo']]\n",
    "tipos_csv = tipos_csv.drop_duplicates(ignore_index=True)\n",
    "tipos_csv = tipos_csv.fillna('Robo')\n",
    "tipos_csv['id'] = tipos_csv.index + 1\n",
    "tipos_csv"
   ],
   "metadata": {
    "collapsed": false
   }
  },
  {
   "cell_type": "code",
   "execution_count": 200,
   "outputs": [
    {
     "name": "stderr",
     "output_type": "stream",
     "text": [
      "/var/folders/zk/0yzb9y8s6z71smfld5fjvdjh0000gn/T/ipykernel_9275/595770229.py:3: SettingWithCopyWarning: \n",
      "A value is trying to be set on a copy of a slice from a DataFrame.\n",
      "Try using .loc[row_indexer,col_indexer] = value instead\n",
      "\n",
      "See the caveats in the documentation: https://pandas.pydata.org/pandas-docs/stable/user_guide/indexing.html#returning-a-view-versus-a-copy\n",
      "  tiempos_csv['nro_dia'] = tiempos_csv['fecha'].apply(lambda x: int(x.split('/')[0]))\n"
     ]
    },
    {
     "data": {
      "text/plain": "      anio        mes        dia     fecha franja  nro_dia           id\n0     2020      Enero  Miércoles  01/01/20     10        1  10_01/01/20\n1     2020      Enero  Miércoles  01/01/20     22        1  22_01/01/20\n2     2020      Enero  Miércoles  01/01/20     19        1  19_01/01/20\n3     2020      Enero  Miércoles  01/01/20     17        1  17_01/01/20\n4     2020      Enero  Miércoles  01/01/20      2        1   2_01/01/20\n...    ...        ...        ...       ...    ...      ...          ...\n8633  2020  Diciembre     Jueves  31/12/20     20       31  20_31/12/20\n8634  2020  Diciembre     Jueves  31/12/20      5       31   5_31/12/20\n8635  2020  Diciembre     Jueves  31/12/20     12       31  12_31/12/20\n8636  2020  Diciembre     Jueves  31/12/20      6       31   6_31/12/20\n8637  2020  Diciembre     Jueves  31/12/20      2       31   2_31/12/20\n\n[8638 rows x 7 columns]",
      "text/html": "<div>\n<style scoped>\n    .dataframe tbody tr th:only-of-type {\n        vertical-align: middle;\n    }\n\n    .dataframe tbody tr th {\n        vertical-align: top;\n    }\n\n    .dataframe thead th {\n        text-align: right;\n    }\n</style>\n<table border=\"1\" class=\"dataframe\">\n  <thead>\n    <tr style=\"text-align: right;\">\n      <th></th>\n      <th>anio</th>\n      <th>mes</th>\n      <th>dia</th>\n      <th>fecha</th>\n      <th>franja</th>\n      <th>nro_dia</th>\n      <th>id</th>\n    </tr>\n  </thead>\n  <tbody>\n    <tr>\n      <th>0</th>\n      <td>2020</td>\n      <td>Enero</td>\n      <td>Miércoles</td>\n      <td>01/01/20</td>\n      <td>10</td>\n      <td>1</td>\n      <td>10_01/01/20</td>\n    </tr>\n    <tr>\n      <th>1</th>\n      <td>2020</td>\n      <td>Enero</td>\n      <td>Miércoles</td>\n      <td>01/01/20</td>\n      <td>22</td>\n      <td>1</td>\n      <td>22_01/01/20</td>\n    </tr>\n    <tr>\n      <th>2</th>\n      <td>2020</td>\n      <td>Enero</td>\n      <td>Miércoles</td>\n      <td>01/01/20</td>\n      <td>19</td>\n      <td>1</td>\n      <td>19_01/01/20</td>\n    </tr>\n    <tr>\n      <th>3</th>\n      <td>2020</td>\n      <td>Enero</td>\n      <td>Miércoles</td>\n      <td>01/01/20</td>\n      <td>17</td>\n      <td>1</td>\n      <td>17_01/01/20</td>\n    </tr>\n    <tr>\n      <th>4</th>\n      <td>2020</td>\n      <td>Enero</td>\n      <td>Miércoles</td>\n      <td>01/01/20</td>\n      <td>2</td>\n      <td>1</td>\n      <td>2_01/01/20</td>\n    </tr>\n    <tr>\n      <th>...</th>\n      <td>...</td>\n      <td>...</td>\n      <td>...</td>\n      <td>...</td>\n      <td>...</td>\n      <td>...</td>\n      <td>...</td>\n    </tr>\n    <tr>\n      <th>8633</th>\n      <td>2020</td>\n      <td>Diciembre</td>\n      <td>Jueves</td>\n      <td>31/12/20</td>\n      <td>20</td>\n      <td>31</td>\n      <td>20_31/12/20</td>\n    </tr>\n    <tr>\n      <th>8634</th>\n      <td>2020</td>\n      <td>Diciembre</td>\n      <td>Jueves</td>\n      <td>31/12/20</td>\n      <td>5</td>\n      <td>31</td>\n      <td>5_31/12/20</td>\n    </tr>\n    <tr>\n      <th>8635</th>\n      <td>2020</td>\n      <td>Diciembre</td>\n      <td>Jueves</td>\n      <td>31/12/20</td>\n      <td>12</td>\n      <td>31</td>\n      <td>12_31/12/20</td>\n    </tr>\n    <tr>\n      <th>8636</th>\n      <td>2020</td>\n      <td>Diciembre</td>\n      <td>Jueves</td>\n      <td>31/12/20</td>\n      <td>6</td>\n      <td>31</td>\n      <td>6_31/12/20</td>\n    </tr>\n    <tr>\n      <th>8637</th>\n      <td>2020</td>\n      <td>Diciembre</td>\n      <td>Jueves</td>\n      <td>31/12/20</td>\n      <td>2</td>\n      <td>31</td>\n      <td>2_31/12/20</td>\n    </tr>\n  </tbody>\n</table>\n<p>8638 rows × 7 columns</p>\n</div>"
     },
     "execution_count": 200,
     "metadata": {},
     "output_type": "execute_result"
    }
   ],
   "source": [
    "# TABLA TIEMPOS\n",
    "tiempos_csv = csv[['anio', 'mes', 'dia', 'fecha', 'franja']]\n",
    "tiempos_csv['nro_dia'] = tiempos_csv['fecha'].apply(lambda x: int(x.split('/')[0]))\n",
    "tiempos_csv = tiempos_csv.drop_duplicates(ignore_index=True)\n",
    "tiempos_csv['id'] = tiempos_csv.franja + '_' + tiempos_csv.fecha\n",
    "tiempos_csv"
   ],
   "metadata": {
    "collapsed": false
   }
  },
  {
   "cell_type": "code",
   "execution_count": 201,
   "outputs": [
    {
     "data": {
      "text/plain": "             barrio  comuna     latitud    longitud     id\n0         Versalles    10.0  -34.626641  -58.527606      1\n1      Villa Devoto    11.0  -34.611268  -58.525386      2\n2         Versalles    10.0  -34.625434  -58.525013      3\n3      Villa Devoto    11.0  -34.606789  -58.520726      4\n4         Mataderos     9.0  -34.655199  -58.514301      5\n...             ...     ...         ...         ...    ...\n44389        Retiro     1.0  -34.596366  -58.378446  44390\n44390     San Telmo     1.0  -34.619381   -58.37042  44391\n44391     San Telmo     1.0  -34.619242  -58.366333  44392\n44392          Boca     4.0  -34.636337  -58.361306  44393\n44393          Boca     4.0  -34.627914  -58.360876  44394\n\n[44394 rows x 5 columns]",
      "text/html": "<div>\n<style scoped>\n    .dataframe tbody tr th:only-of-type {\n        vertical-align: middle;\n    }\n\n    .dataframe tbody tr th {\n        vertical-align: top;\n    }\n\n    .dataframe thead th {\n        text-align: right;\n    }\n</style>\n<table border=\"1\" class=\"dataframe\">\n  <thead>\n    <tr style=\"text-align: right;\">\n      <th></th>\n      <th>barrio</th>\n      <th>comuna</th>\n      <th>latitud</th>\n      <th>longitud</th>\n      <th>id</th>\n    </tr>\n  </thead>\n  <tbody>\n    <tr>\n      <th>0</th>\n      <td>Versalles</td>\n      <td>10.0</td>\n      <td>-34.626641</td>\n      <td>-58.527606</td>\n      <td>1</td>\n    </tr>\n    <tr>\n      <th>1</th>\n      <td>Villa Devoto</td>\n      <td>11.0</td>\n      <td>-34.611268</td>\n      <td>-58.525386</td>\n      <td>2</td>\n    </tr>\n    <tr>\n      <th>2</th>\n      <td>Versalles</td>\n      <td>10.0</td>\n      <td>-34.625434</td>\n      <td>-58.525013</td>\n      <td>3</td>\n    </tr>\n    <tr>\n      <th>3</th>\n      <td>Villa Devoto</td>\n      <td>11.0</td>\n      <td>-34.606789</td>\n      <td>-58.520726</td>\n      <td>4</td>\n    </tr>\n    <tr>\n      <th>4</th>\n      <td>Mataderos</td>\n      <td>9.0</td>\n      <td>-34.655199</td>\n      <td>-58.514301</td>\n      <td>5</td>\n    </tr>\n    <tr>\n      <th>...</th>\n      <td>...</td>\n      <td>...</td>\n      <td>...</td>\n      <td>...</td>\n      <td>...</td>\n    </tr>\n    <tr>\n      <th>44389</th>\n      <td>Retiro</td>\n      <td>1.0</td>\n      <td>-34.596366</td>\n      <td>-58.378446</td>\n      <td>44390</td>\n    </tr>\n    <tr>\n      <th>44390</th>\n      <td>San Telmo</td>\n      <td>1.0</td>\n      <td>-34.619381</td>\n      <td>-58.37042</td>\n      <td>44391</td>\n    </tr>\n    <tr>\n      <th>44391</th>\n      <td>San Telmo</td>\n      <td>1.0</td>\n      <td>-34.619242</td>\n      <td>-58.366333</td>\n      <td>44392</td>\n    </tr>\n    <tr>\n      <th>44392</th>\n      <td>Boca</td>\n      <td>4.0</td>\n      <td>-34.636337</td>\n      <td>-58.361306</td>\n      <td>44393</td>\n    </tr>\n    <tr>\n      <th>44393</th>\n      <td>Boca</td>\n      <td>4.0</td>\n      <td>-34.627914</td>\n      <td>-58.360876</td>\n      <td>44394</td>\n    </tr>\n  </tbody>\n</table>\n<p>44394 rows × 5 columns</p>\n</div>"
     },
     "execution_count": 201,
     "metadata": {},
     "output_type": "execute_result"
    }
   ],
   "source": [
    "# TABLA LUGARES\n",
    "lugares_csv = csv[['barrio', 'comuna', 'latitud', 'longitud']]\n",
    "# drop dups\n",
    "lugares_csv = lugares_csv.drop_duplicates(ignore_index=True)\n",
    "# add id column\n",
    "lugares_csv['id'] = lugares_csv.index + 1\n",
    "lugares_csv"
   ],
   "metadata": {
    "collapsed": false
   }
  },
  {
   "cell_type": "code",
   "execution_count": 202,
   "outputs": [
    {
     "data": {
      "text/plain": "       uso_armas  id\n0            NaN   1\n1  Arma cortante   2\n2  Arma de fuego   3",
      "text/html": "<div>\n<style scoped>\n    .dataframe tbody tr th:only-of-type {\n        vertical-align: middle;\n    }\n\n    .dataframe tbody tr th {\n        vertical-align: top;\n    }\n\n    .dataframe thead th {\n        text-align: right;\n    }\n</style>\n<table border=\"1\" class=\"dataframe\">\n  <thead>\n    <tr style=\"text-align: right;\">\n      <th></th>\n      <th>uso_armas</th>\n      <th>id</th>\n    </tr>\n  </thead>\n  <tbody>\n    <tr>\n      <th>0</th>\n      <td>NaN</td>\n      <td>1</td>\n    </tr>\n    <tr>\n      <th>1</th>\n      <td>Arma cortante</td>\n      <td>2</td>\n    </tr>\n    <tr>\n      <th>2</th>\n      <td>Arma de fuego</td>\n      <td>3</td>\n    </tr>\n  </tbody>\n</table>\n</div>"
     },
     "execution_count": 202,
     "metadata": {},
     "output_type": "execute_result"
    }
   ],
   "source": [
    "# TABLA TIPO DE ARMA\n",
    "armas_csv = csv[['uso_armas']]\n",
    "armas_csv = armas_csv.drop_duplicates(ignore_index=True)\n",
    "armas_csv['id'] = armas_csv.index + 1\n",
    "armas_csv"
   ],
   "metadata": {
    "collapsed": false
   }
  },
  {
   "cell_type": "code",
   "execution_count": 203,
   "outputs": [],
   "source": [
    "# TABLA DELITOS\n",
    "delitos_csv = csv\n",
    "\n",
    "# create a victimas column with random values\n",
    "delitos_csv['victimas'] = delitos_csv.index\n",
    "delitos_csv['costo'] = delitos_csv.index\n",
    "delitos_csv['victimas'] = delitos_csv['victimas'].apply(lambda x: random.randint(0, 5))\n",
    "delitos_csv['costo'] = delitos_csv['costo'].apply(lambda x: random.randint(0, 100000))"
   ],
   "metadata": {
    "collapsed": false
   }
  },
  {
   "cell_type": "code",
   "execution_count": 204,
   "outputs": [],
   "source": [
    "# replace uso_armas for arma_id\n",
    "delitos_csv = delitos_csv.merge(armas_csv, left_on=['uso_armas'], right_on=['uso_armas'])\n",
    "delitos_csv = delitos_csv.rename(columns={'id': 'arma_id'})\n",
    "delitos_csv = delitos_csv.drop(columns=['uso_armas'])"
   ],
   "metadata": {
    "collapsed": false
   }
  },
  {
   "cell_type": "code",
   "execution_count": 205,
   "outputs": [],
   "source": [
    "# add lugar_id to delitos_csv by finding a match in lugares_csv\n",
    "delitos_csv = delitos_csv.merge(lugares_csv, left_on=['barrio', 'comuna', 'latitud', 'longitud'], right_on=['barrio', 'comuna', 'latitud', 'longitud'])\n",
    "delitos_csv = delitos_csv.rename(columns={'id': 'lugar_id'})\n",
    "delitos_csv = delitos_csv.drop(columns=['barrio', 'comuna', 'latitud', 'longitud'])"
   ],
   "metadata": {
    "collapsed": false
   }
  },
  {
   "cell_type": "code",
   "execution_count": 206,
   "outputs": [
    {
     "data": {
      "text/plain": "                id_mapa   fecha_x                   tipo subtipo  victimas   \n0       RH-2020-0000480  01/01/20  Hurto (sin violencia)     NaN         2  \\\n1       RH-2020-0000480  01/01/20  Hurto (sin violencia)     NaN         2   \n2       RH-2020-0000480  01/01/20  Hurto (sin violencia)     NaN         2   \n3       RH-2020-0000480  01/01/20  Hurto (sin violencia)     NaN         2   \n4       RH-2020-0000480  01/01/20  Hurto (sin violencia)     NaN         2   \n...                 ...       ...                    ...     ...       ...   \n290055  HD-2020-0660548  15/12/20              Homicidio  Doloso         4   \n290056  HD-2020-0670159  21/12/20              Homicidio  Doloso         5   \n290057  HD-2020-0675454  25/12/20              Homicidio  Doloso         5   \n290058  RH-2020-0030320  14/01/20   Robo (con violencia)     NaN         2   \n290059  RH-2020-0211914  26/04/20   Robo (con violencia)     NaN         0   \n\n        costo  arma_id  lugar_id   fecha_y    tiempo_id  \n0       99357        1         1  01/01/20  10_01/01/20  \n1       99357        1         1  08/01/20  10_08/01/20  \n2       99357        1         1  15/01/20  10_15/01/20  \n3       99357        1         1  22/01/20  10_22/01/20  \n4       99357        1         1  29/01/20  10_29/01/20  \n...       ...      ...       ...       ...          ...  \n290055  62332        1     42480  15/12/20  23_15/12/20  \n290056  72903        1     43325  21/12/20  20_21/12/20  \n290057  71217        1     43685  25/12/20   8_25/12/20  \n290058  84685        2      3844  14/01/20  SD_14/01/20  \n290059   3011        3     20318  26/04/20   2_26/04/20  \n\n[290060 rows x 10 columns]",
      "text/html": "<div>\n<style scoped>\n    .dataframe tbody tr th:only-of-type {\n        vertical-align: middle;\n    }\n\n    .dataframe tbody tr th {\n        vertical-align: top;\n    }\n\n    .dataframe thead th {\n        text-align: right;\n    }\n</style>\n<table border=\"1\" class=\"dataframe\">\n  <thead>\n    <tr style=\"text-align: right;\">\n      <th></th>\n      <th>id_mapa</th>\n      <th>fecha_x</th>\n      <th>tipo</th>\n      <th>subtipo</th>\n      <th>victimas</th>\n      <th>costo</th>\n      <th>arma_id</th>\n      <th>lugar_id</th>\n      <th>fecha_y</th>\n      <th>tiempo_id</th>\n    </tr>\n  </thead>\n  <tbody>\n    <tr>\n      <th>0</th>\n      <td>RH-2020-0000480</td>\n      <td>01/01/20</td>\n      <td>Hurto (sin violencia)</td>\n      <td>NaN</td>\n      <td>2</td>\n      <td>99357</td>\n      <td>1</td>\n      <td>1</td>\n      <td>01/01/20</td>\n      <td>10_01/01/20</td>\n    </tr>\n    <tr>\n      <th>1</th>\n      <td>RH-2020-0000480</td>\n      <td>01/01/20</td>\n      <td>Hurto (sin violencia)</td>\n      <td>NaN</td>\n      <td>2</td>\n      <td>99357</td>\n      <td>1</td>\n      <td>1</td>\n      <td>08/01/20</td>\n      <td>10_08/01/20</td>\n    </tr>\n    <tr>\n      <th>2</th>\n      <td>RH-2020-0000480</td>\n      <td>01/01/20</td>\n      <td>Hurto (sin violencia)</td>\n      <td>NaN</td>\n      <td>2</td>\n      <td>99357</td>\n      <td>1</td>\n      <td>1</td>\n      <td>15/01/20</td>\n      <td>10_15/01/20</td>\n    </tr>\n    <tr>\n      <th>3</th>\n      <td>RH-2020-0000480</td>\n      <td>01/01/20</td>\n      <td>Hurto (sin violencia)</td>\n      <td>NaN</td>\n      <td>2</td>\n      <td>99357</td>\n      <td>1</td>\n      <td>1</td>\n      <td>22/01/20</td>\n      <td>10_22/01/20</td>\n    </tr>\n    <tr>\n      <th>4</th>\n      <td>RH-2020-0000480</td>\n      <td>01/01/20</td>\n      <td>Hurto (sin violencia)</td>\n      <td>NaN</td>\n      <td>2</td>\n      <td>99357</td>\n      <td>1</td>\n      <td>1</td>\n      <td>29/01/20</td>\n      <td>10_29/01/20</td>\n    </tr>\n    <tr>\n      <th>...</th>\n      <td>...</td>\n      <td>...</td>\n      <td>...</td>\n      <td>...</td>\n      <td>...</td>\n      <td>...</td>\n      <td>...</td>\n      <td>...</td>\n      <td>...</td>\n      <td>...</td>\n    </tr>\n    <tr>\n      <th>290055</th>\n      <td>HD-2020-0660548</td>\n      <td>15/12/20</td>\n      <td>Homicidio</td>\n      <td>Doloso</td>\n      <td>4</td>\n      <td>62332</td>\n      <td>1</td>\n      <td>42480</td>\n      <td>15/12/20</td>\n      <td>23_15/12/20</td>\n    </tr>\n    <tr>\n      <th>290056</th>\n      <td>HD-2020-0670159</td>\n      <td>21/12/20</td>\n      <td>Homicidio</td>\n      <td>Doloso</td>\n      <td>5</td>\n      <td>72903</td>\n      <td>1</td>\n      <td>43325</td>\n      <td>21/12/20</td>\n      <td>20_21/12/20</td>\n    </tr>\n    <tr>\n      <th>290057</th>\n      <td>HD-2020-0675454</td>\n      <td>25/12/20</td>\n      <td>Homicidio</td>\n      <td>Doloso</td>\n      <td>5</td>\n      <td>71217</td>\n      <td>1</td>\n      <td>43685</td>\n      <td>25/12/20</td>\n      <td>8_25/12/20</td>\n    </tr>\n    <tr>\n      <th>290058</th>\n      <td>RH-2020-0030320</td>\n      <td>14/01/20</td>\n      <td>Robo (con violencia)</td>\n      <td>NaN</td>\n      <td>2</td>\n      <td>84685</td>\n      <td>2</td>\n      <td>3844</td>\n      <td>14/01/20</td>\n      <td>SD_14/01/20</td>\n    </tr>\n    <tr>\n      <th>290059</th>\n      <td>RH-2020-0211914</td>\n      <td>26/04/20</td>\n      <td>Robo (con violencia)</td>\n      <td>NaN</td>\n      <td>0</td>\n      <td>3011</td>\n      <td>3</td>\n      <td>20318</td>\n      <td>26/04/20</td>\n      <td>2_26/04/20</td>\n    </tr>\n  </tbody>\n</table>\n<p>290060 rows × 10 columns</p>\n</div>"
     },
     "execution_count": 206,
     "metadata": {},
     "output_type": "execute_result"
    }
   ],
   "source": [
    "# replace fecha, franja for tiempo_id\n",
    "delitos_csv = delitos_csv.merge(tiempos_csv, left_on=['anio', 'mes', 'dia', 'franja'], right_on=['anio', 'mes', 'dia', 'franja'])\n",
    "delitos_csv = delitos_csv.rename(columns={'id': 'tiempo_id'})\n",
    "delitos_csv = delitos_csv.drop(columns=['anio', 'mes', 'dia', 'franja', 'nro_dia'])\n",
    "delitos_csv"
   ],
   "metadata": {
    "collapsed": false
   }
  },
  {
   "cell_type": "code",
   "execution_count": 207,
   "outputs": [],
   "source": [
    "# replace tipo for tipo_id\n",
    "delitos_csv = delitos_csv.merge(tipos_csv, left_on=['tipo', 'subtipo'], right_on=['tipo', 'subtipo'])\n",
    "delitos_csv = delitos_csv.rename(columns={'id': 'tipo_id'})\n",
    "delitos_csv = delitos_csv.drop(columns=['tipo'])"
   ],
   "metadata": {
    "collapsed": false
   }
  },
  {
   "cell_type": "code",
   "execution_count": 208,
   "outputs": [
    {
     "data": {
      "text/plain": "         tiempo_id  lugar_id  arma_id  tipo_id  victimas  costo\n0      10_01/01/20        15        1        4         2  94861\n1      10_08/01/20        15        1        4         2  94861\n2      10_15/01/20        15        1        4         2  94861\n3      10_22/01/20        15        1        4         2  94861\n4      10_29/01/20        15        1        4         2  94861\n...            ...       ...      ...      ...       ...    ...\n59560   1_07/09/20     32143        1       11         4  77536\n59561   1_14/09/20     32143        1       11         4  77536\n59562   1_21/09/20     32143        1       11         4  77536\n59563   1_28/09/20     32143        1       11         4  77536\n59564  18_06/12/20     41436        1       11         3  31436\n\n[59565 rows x 6 columns]",
      "text/html": "<div>\n<style scoped>\n    .dataframe tbody tr th:only-of-type {\n        vertical-align: middle;\n    }\n\n    .dataframe tbody tr th {\n        vertical-align: top;\n    }\n\n    .dataframe thead th {\n        text-align: right;\n    }\n</style>\n<table border=\"1\" class=\"dataframe\">\n  <thead>\n    <tr style=\"text-align: right;\">\n      <th></th>\n      <th>tiempo_id</th>\n      <th>lugar_id</th>\n      <th>arma_id</th>\n      <th>tipo_id</th>\n      <th>victimas</th>\n      <th>costo</th>\n    </tr>\n  </thead>\n  <tbody>\n    <tr>\n      <th>0</th>\n      <td>10_01/01/20</td>\n      <td>15</td>\n      <td>1</td>\n      <td>4</td>\n      <td>2</td>\n      <td>94861</td>\n    </tr>\n    <tr>\n      <th>1</th>\n      <td>10_08/01/20</td>\n      <td>15</td>\n      <td>1</td>\n      <td>4</td>\n      <td>2</td>\n      <td>94861</td>\n    </tr>\n    <tr>\n      <th>2</th>\n      <td>10_15/01/20</td>\n      <td>15</td>\n      <td>1</td>\n      <td>4</td>\n      <td>2</td>\n      <td>94861</td>\n    </tr>\n    <tr>\n      <th>3</th>\n      <td>10_22/01/20</td>\n      <td>15</td>\n      <td>1</td>\n      <td>4</td>\n      <td>2</td>\n      <td>94861</td>\n    </tr>\n    <tr>\n      <th>4</th>\n      <td>10_29/01/20</td>\n      <td>15</td>\n      <td>1</td>\n      <td>4</td>\n      <td>2</td>\n      <td>94861</td>\n    </tr>\n    <tr>\n      <th>...</th>\n      <td>...</td>\n      <td>...</td>\n      <td>...</td>\n      <td>...</td>\n      <td>...</td>\n      <td>...</td>\n    </tr>\n    <tr>\n      <th>59560</th>\n      <td>1_07/09/20</td>\n      <td>32143</td>\n      <td>1</td>\n      <td>11</td>\n      <td>4</td>\n      <td>77536</td>\n    </tr>\n    <tr>\n      <th>59561</th>\n      <td>1_14/09/20</td>\n      <td>32143</td>\n      <td>1</td>\n      <td>11</td>\n      <td>4</td>\n      <td>77536</td>\n    </tr>\n    <tr>\n      <th>59562</th>\n      <td>1_21/09/20</td>\n      <td>32143</td>\n      <td>1</td>\n      <td>11</td>\n      <td>4</td>\n      <td>77536</td>\n    </tr>\n    <tr>\n      <th>59563</th>\n      <td>1_28/09/20</td>\n      <td>32143</td>\n      <td>1</td>\n      <td>11</td>\n      <td>4</td>\n      <td>77536</td>\n    </tr>\n    <tr>\n      <th>59564</th>\n      <td>18_06/12/20</td>\n      <td>41436</td>\n      <td>1</td>\n      <td>11</td>\n      <td>3</td>\n      <td>31436</td>\n    </tr>\n  </tbody>\n</table>\n<p>59565 rows × 6 columns</p>\n</div>"
     },
     "execution_count": 208,
     "metadata": {},
     "output_type": "execute_result"
    }
   ],
   "source": [
    "delitos_csv = delitos_csv[['tiempo_id', 'lugar_id', 'arma_id', 'tipo_id', 'victimas', 'costo']]\n",
    "delitos_csv"
   ],
   "metadata": {
    "collapsed": false
   }
  },
  {
   "cell_type": "code",
   "execution_count": 209,
   "outputs": [],
   "source": [
    "# save csvs to files\n",
    "tiempos_csv.to_csv('output/tiempos.csv', index=False)\n",
    "lugares_csv.to_csv('output/lugares.csv', index=False)\n",
    "armas_csv.to_csv('output/armas.csv', index=False)\n",
    "delitos_csv.to_csv('output/delitos.csv', index=False)\n",
    "tipos_csv.to_csv('output/tipos.csv', index=False)"
   ],
   "metadata": {
    "collapsed": false
   }
  }
 ],
 "metadata": {
  "kernelspec": {
   "display_name": "Python 3",
   "language": "python",
   "name": "python3"
  },
  "language_info": {
   "codemirror_mode": {
    "name": "ipython",
    "version": 2
   },
   "file_extension": ".py",
   "mimetype": "text/x-python",
   "name": "python",
   "nbconvert_exporter": "python",
   "pygments_lexer": "ipython2",
   "version": "2.7.6"
  }
 },
 "nbformat": 4,
 "nbformat_minor": 0
}
