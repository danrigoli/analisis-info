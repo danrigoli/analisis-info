{
 "cells": [
  {
   "cell_type": "code",
   "execution_count": 1,
   "metadata": {
    "collapsed": true
   },
   "outputs": [],
   "source": [
    "import requests\n",
    "import pandas as pd"
   ]
  },
  {
   "cell_type": "code",
   "execution_count": 2,
   "outputs": [],
   "source": [
    "csv = pd.read_csv('delitos_2020.csv')"
   ],
   "metadata": {
    "collapsed": false
   }
  },
  {
   "cell_type": "code",
   "execution_count": 3,
   "outputs": [
    {
     "data": {
      "text/plain": "           id_mapa  anio    mes        dia     fecha franja  \\\n0  RH-2020-0000480  2020  Enero  Miércoles  01/01/20     10   \n1  HD-2020-0001119  2020  Enero  Miércoles  01/01/20     22   \n2  RH-2020-0001140  2020  Enero  Miércoles  01/01/20     19   \n3  RH-2020-0001187  2020  Enero  Miércoles  01/01/20     17   \n4  RH-2020-0010817  2020  Enero  Miércoles  01/01/20      2   \n\n                    tipo    subtipo uso_armas        barrio  comuna  \\\n0  Hurto (sin violencia)        NaN       NaN     Versalles    10.0   \n1              Homicidio  Femicidio       NaN  Villa Devoto    11.0   \n2   Robo (con violencia)        NaN       NaN     Versalles    10.0   \n3   Robo (con violencia)        NaN       NaN     Versalles    10.0   \n4  Hurto (sin violencia)        NaN       NaN  Villa Devoto    11.0   \n\n      latitud    longitud  victimas  \n0  -34.626641  -58.527606       NaN  \n1  -34.611268  -58.525386       1.0  \n2  -34.625434  -58.525013       NaN  \n3  -34.625434  -58.525013       NaN  \n4  -34.606789  -58.520726       NaN  ",
      "text/html": "<div>\n<style scoped>\n    .dataframe tbody tr th:only-of-type {\n        vertical-align: middle;\n    }\n\n    .dataframe tbody tr th {\n        vertical-align: top;\n    }\n\n    .dataframe thead th {\n        text-align: right;\n    }\n</style>\n<table border=\"1\" class=\"dataframe\">\n  <thead>\n    <tr style=\"text-align: right;\">\n      <th></th>\n      <th>id_mapa</th>\n      <th>anio</th>\n      <th>mes</th>\n      <th>dia</th>\n      <th>fecha</th>\n      <th>franja</th>\n      <th>tipo</th>\n      <th>subtipo</th>\n      <th>uso_armas</th>\n      <th>barrio</th>\n      <th>comuna</th>\n      <th>latitud</th>\n      <th>longitud</th>\n      <th>victimas</th>\n    </tr>\n  </thead>\n  <tbody>\n    <tr>\n      <th>0</th>\n      <td>RH-2020-0000480</td>\n      <td>2020</td>\n      <td>Enero</td>\n      <td>Miércoles</td>\n      <td>01/01/20</td>\n      <td>10</td>\n      <td>Hurto (sin violencia)</td>\n      <td>NaN</td>\n      <td>NaN</td>\n      <td>Versalles</td>\n      <td>10.0</td>\n      <td>-34.626641</td>\n      <td>-58.527606</td>\n      <td>NaN</td>\n    </tr>\n    <tr>\n      <th>1</th>\n      <td>HD-2020-0001119</td>\n      <td>2020</td>\n      <td>Enero</td>\n      <td>Miércoles</td>\n      <td>01/01/20</td>\n      <td>22</td>\n      <td>Homicidio</td>\n      <td>Femicidio</td>\n      <td>NaN</td>\n      <td>Villa Devoto</td>\n      <td>11.0</td>\n      <td>-34.611268</td>\n      <td>-58.525386</td>\n      <td>1.0</td>\n    </tr>\n    <tr>\n      <th>2</th>\n      <td>RH-2020-0001140</td>\n      <td>2020</td>\n      <td>Enero</td>\n      <td>Miércoles</td>\n      <td>01/01/20</td>\n      <td>19</td>\n      <td>Robo (con violencia)</td>\n      <td>NaN</td>\n      <td>NaN</td>\n      <td>Versalles</td>\n      <td>10.0</td>\n      <td>-34.625434</td>\n      <td>-58.525013</td>\n      <td>NaN</td>\n    </tr>\n    <tr>\n      <th>3</th>\n      <td>RH-2020-0001187</td>\n      <td>2020</td>\n      <td>Enero</td>\n      <td>Miércoles</td>\n      <td>01/01/20</td>\n      <td>17</td>\n      <td>Robo (con violencia)</td>\n      <td>NaN</td>\n      <td>NaN</td>\n      <td>Versalles</td>\n      <td>10.0</td>\n      <td>-34.625434</td>\n      <td>-58.525013</td>\n      <td>NaN</td>\n    </tr>\n    <tr>\n      <th>4</th>\n      <td>RH-2020-0010817</td>\n      <td>2020</td>\n      <td>Enero</td>\n      <td>Miércoles</td>\n      <td>01/01/20</td>\n      <td>2</td>\n      <td>Hurto (sin violencia)</td>\n      <td>NaN</td>\n      <td>NaN</td>\n      <td>Villa Devoto</td>\n      <td>11.0</td>\n      <td>-34.606789</td>\n      <td>-58.520726</td>\n      <td>NaN</td>\n    </tr>\n  </tbody>\n</table>\n</div>"
     },
     "execution_count": 3,
     "metadata": {},
     "output_type": "execute_result"
    }
   ],
   "source": [
    "csv.head()"
   ],
   "metadata": {
    "collapsed": false
   }
  },
  {
   "cell_type": "code",
   "execution_count": 4,
   "outputs": [
    {
     "data": {
      "text/plain": "array(['Hurto (sin violencia)', 'Homicidio', 'Robo (con violencia)',\n       'Lesiones'], dtype=object)"
     },
     "execution_count": 4,
     "metadata": {},
     "output_type": "execute_result"
    }
   ],
   "source": [
    "# TIPOS\n",
    "csv['tipo'].unique()"
   ],
   "metadata": {
    "collapsed": false
   }
  },
  {
   "cell_type": "code",
   "execution_count": 34,
   "outputs": [
    {
     "name": "stderr",
     "output_type": "stream",
     "text": [
      "/var/folders/zk/0yzb9y8s6z71smfld5fjvdjh0000gn/T/ipykernel_86634/1244753612.py:3: SettingWithCopyWarning: \n",
      "A value is trying to be set on a copy of a slice from a DataFrame.\n",
      "Try using .loc[row_indexer,col_indexer] = value instead\n",
      "\n",
      "See the caveats in the documentation: https://pandas.pydata.org/pandas-docs/stable/user_guide/indexing.html#returning-a-view-versus-a-copy\n",
      "  tiempos_csv['nro_dia'] = tiempos_csv['fecha'].apply(lambda x: int(x.split('/')[0]))\n"
     ]
    },
    {
     "data": {
      "text/plain": "       anio        mes        dia     fecha franja  nro_dia     id\n0      2020      Enero  Miércoles  01/01/20     10        1      1\n1      2020      Enero  Miércoles  01/01/20     22        1      2\n2      2020      Enero  Miércoles  01/01/20     19        1      3\n3      2020      Enero  Miércoles  01/01/20     17        1      4\n4      2020      Enero  Miércoles  01/01/20      2        1      5\n...     ...        ...        ...       ...    ...      ...    ...\n66634  2020  Diciembre     Jueves  31/12/20     20       31  66635\n66635  2020  Diciembre     Jueves  31/12/20      5       31  66636\n66645  2020  Diciembre     Jueves  31/12/20     12       31  66646\n66678  2020  Diciembre     Jueves  31/12/20      6       31  66679\n66693  2020  Diciembre     Jueves  31/12/20      2       31  66694\n\n[8638 rows x 7 columns]",
      "text/html": "<div>\n<style scoped>\n    .dataframe tbody tr th:only-of-type {\n        vertical-align: middle;\n    }\n\n    .dataframe tbody tr th {\n        vertical-align: top;\n    }\n\n    .dataframe thead th {\n        text-align: right;\n    }\n</style>\n<table border=\"1\" class=\"dataframe\">\n  <thead>\n    <tr style=\"text-align: right;\">\n      <th></th>\n      <th>anio</th>\n      <th>mes</th>\n      <th>dia</th>\n      <th>fecha</th>\n      <th>franja</th>\n      <th>nro_dia</th>\n      <th>id</th>\n    </tr>\n  </thead>\n  <tbody>\n    <tr>\n      <th>0</th>\n      <td>2020</td>\n      <td>Enero</td>\n      <td>Miércoles</td>\n      <td>01/01/20</td>\n      <td>10</td>\n      <td>1</td>\n      <td>1</td>\n    </tr>\n    <tr>\n      <th>1</th>\n      <td>2020</td>\n      <td>Enero</td>\n      <td>Miércoles</td>\n      <td>01/01/20</td>\n      <td>22</td>\n      <td>1</td>\n      <td>2</td>\n    </tr>\n    <tr>\n      <th>2</th>\n      <td>2020</td>\n      <td>Enero</td>\n      <td>Miércoles</td>\n      <td>01/01/20</td>\n      <td>19</td>\n      <td>1</td>\n      <td>3</td>\n    </tr>\n    <tr>\n      <th>3</th>\n      <td>2020</td>\n      <td>Enero</td>\n      <td>Miércoles</td>\n      <td>01/01/20</td>\n      <td>17</td>\n      <td>1</td>\n      <td>4</td>\n    </tr>\n    <tr>\n      <th>4</th>\n      <td>2020</td>\n      <td>Enero</td>\n      <td>Miércoles</td>\n      <td>01/01/20</td>\n      <td>2</td>\n      <td>1</td>\n      <td>5</td>\n    </tr>\n    <tr>\n      <th>...</th>\n      <td>...</td>\n      <td>...</td>\n      <td>...</td>\n      <td>...</td>\n      <td>...</td>\n      <td>...</td>\n      <td>...</td>\n    </tr>\n    <tr>\n      <th>66634</th>\n      <td>2020</td>\n      <td>Diciembre</td>\n      <td>Jueves</td>\n      <td>31/12/20</td>\n      <td>20</td>\n      <td>31</td>\n      <td>66635</td>\n    </tr>\n    <tr>\n      <th>66635</th>\n      <td>2020</td>\n      <td>Diciembre</td>\n      <td>Jueves</td>\n      <td>31/12/20</td>\n      <td>5</td>\n      <td>31</td>\n      <td>66636</td>\n    </tr>\n    <tr>\n      <th>66645</th>\n      <td>2020</td>\n      <td>Diciembre</td>\n      <td>Jueves</td>\n      <td>31/12/20</td>\n      <td>12</td>\n      <td>31</td>\n      <td>66646</td>\n    </tr>\n    <tr>\n      <th>66678</th>\n      <td>2020</td>\n      <td>Diciembre</td>\n      <td>Jueves</td>\n      <td>31/12/20</td>\n      <td>6</td>\n      <td>31</td>\n      <td>66679</td>\n    </tr>\n    <tr>\n      <th>66693</th>\n      <td>2020</td>\n      <td>Diciembre</td>\n      <td>Jueves</td>\n      <td>31/12/20</td>\n      <td>2</td>\n      <td>31</td>\n      <td>66694</td>\n    </tr>\n  </tbody>\n</table>\n<p>8638 rows × 7 columns</p>\n</div>"
     },
     "execution_count": 34,
     "metadata": {},
     "output_type": "execute_result"
    }
   ],
   "source": [
    "# TABLA TIEMPOS\n",
    "tiempos_csv = csv[['anio', 'mes', 'dia', 'fecha', 'franja']]\n",
    "tiempos_csv['nro_dia'] = tiempos_csv['fecha'].apply(lambda x: int(x.split('/')[0]))\n",
    "tiempos_csv = tiempos_csv.drop_duplicates()\n",
    "tiempos_csv['id'] = tiempos_csv.index + 1\n",
    "tiempos_csv"
   ],
   "metadata": {
    "collapsed": false
   }
  },
  {
   "cell_type": "code",
   "execution_count": 31,
   "outputs": [
    {
     "data": {
      "text/plain": "                  barrio  comuna     id\n0              Versalles    10.0      1\n1           Villa Devoto    11.0      2\n5              Mataderos     9.0      6\n6             Villa Luro    10.0      7\n7           Monte Castro    10.0      8\n15         Villa Urquiza    12.0     16\n18       Vélez Sársfield    10.0     19\n21              Saavedra    12.0     22\n23             Agronomía    15.0     24\n24          Villa Lugano     8.0     25\n25      Villa Del Parque    11.0     26\n27     Parque Avellaneda     9.0     28\n29              Floresta    10.0     30\n43      Villa Santa Rita    11.0     44\n50              Paternal    15.0     51\n51                 Nuñez    13.0     52\n53     Villa Gral. Mitre    11.0     54\n57               Coghlan    12.0     58\n62                Flores     7.0     63\n74             Chacarita    15.0     75\n75              Belgrano    13.0     76\n81         Villa Soldati     8.0     82\n82             Caballito     6.0     83\n89      Parque Chacabuco     7.0     90\n94          Villa Crespo    15.0     95\n96               Palermo    14.0     97\n99            Colegiales    13.0    100\n117              Almagro     5.0    118\n118        Nueva Pompeya     4.0    119\n124                Boedo     5.0    125\n145            Balvanera     3.0    146\n146             Recoleta     2.0    147\n153     Parque Patricios     4.0    154\n168        San Cristóbal     3.0    169\n172             Barracas     4.0    173\n186          San Nicolás     1.0    187\n193         Constitución     1.0    194\n196               Retiro     1.0    197\n204            Monserrat     1.0    205\n212            San Telmo     1.0    213\n216        Puerto Madero     1.0    217\n223                 Boca     4.0    224\n231              Liniers     9.0    232\n250     Villa Pueyrredón    12.0    251\n294      Villa Riachuelo     8.0    295\n297          Parque Chas    15.0    298\n301        Villa Ortuzar    15.0    302\n557                  NaN     NaN    558\n1199          Villa Real    10.0   1200\n25763            La Boca     4.0  25764",
      "text/html": "<div>\n<style scoped>\n    .dataframe tbody tr th:only-of-type {\n        vertical-align: middle;\n    }\n\n    .dataframe tbody tr th {\n        vertical-align: top;\n    }\n\n    .dataframe thead th {\n        text-align: right;\n    }\n</style>\n<table border=\"1\" class=\"dataframe\">\n  <thead>\n    <tr style=\"text-align: right;\">\n      <th></th>\n      <th>barrio</th>\n      <th>comuna</th>\n      <th>id</th>\n    </tr>\n  </thead>\n  <tbody>\n    <tr>\n      <th>0</th>\n      <td>Versalles</td>\n      <td>10.0</td>\n      <td>1</td>\n    </tr>\n    <tr>\n      <th>1</th>\n      <td>Villa Devoto</td>\n      <td>11.0</td>\n      <td>2</td>\n    </tr>\n    <tr>\n      <th>5</th>\n      <td>Mataderos</td>\n      <td>9.0</td>\n      <td>6</td>\n    </tr>\n    <tr>\n      <th>6</th>\n      <td>Villa Luro</td>\n      <td>10.0</td>\n      <td>7</td>\n    </tr>\n    <tr>\n      <th>7</th>\n      <td>Monte Castro</td>\n      <td>10.0</td>\n      <td>8</td>\n    </tr>\n    <tr>\n      <th>15</th>\n      <td>Villa Urquiza</td>\n      <td>12.0</td>\n      <td>16</td>\n    </tr>\n    <tr>\n      <th>18</th>\n      <td>Vélez Sársfield</td>\n      <td>10.0</td>\n      <td>19</td>\n    </tr>\n    <tr>\n      <th>21</th>\n      <td>Saavedra</td>\n      <td>12.0</td>\n      <td>22</td>\n    </tr>\n    <tr>\n      <th>23</th>\n      <td>Agronomía</td>\n      <td>15.0</td>\n      <td>24</td>\n    </tr>\n    <tr>\n      <th>24</th>\n      <td>Villa Lugano</td>\n      <td>8.0</td>\n      <td>25</td>\n    </tr>\n    <tr>\n      <th>25</th>\n      <td>Villa Del Parque</td>\n      <td>11.0</td>\n      <td>26</td>\n    </tr>\n    <tr>\n      <th>27</th>\n      <td>Parque Avellaneda</td>\n      <td>9.0</td>\n      <td>28</td>\n    </tr>\n    <tr>\n      <th>29</th>\n      <td>Floresta</td>\n      <td>10.0</td>\n      <td>30</td>\n    </tr>\n    <tr>\n      <th>43</th>\n      <td>Villa Santa Rita</td>\n      <td>11.0</td>\n      <td>44</td>\n    </tr>\n    <tr>\n      <th>50</th>\n      <td>Paternal</td>\n      <td>15.0</td>\n      <td>51</td>\n    </tr>\n    <tr>\n      <th>51</th>\n      <td>Nuñez</td>\n      <td>13.0</td>\n      <td>52</td>\n    </tr>\n    <tr>\n      <th>53</th>\n      <td>Villa Gral. Mitre</td>\n      <td>11.0</td>\n      <td>54</td>\n    </tr>\n    <tr>\n      <th>57</th>\n      <td>Coghlan</td>\n      <td>12.0</td>\n      <td>58</td>\n    </tr>\n    <tr>\n      <th>62</th>\n      <td>Flores</td>\n      <td>7.0</td>\n      <td>63</td>\n    </tr>\n    <tr>\n      <th>74</th>\n      <td>Chacarita</td>\n      <td>15.0</td>\n      <td>75</td>\n    </tr>\n    <tr>\n      <th>75</th>\n      <td>Belgrano</td>\n      <td>13.0</td>\n      <td>76</td>\n    </tr>\n    <tr>\n      <th>81</th>\n      <td>Villa Soldati</td>\n      <td>8.0</td>\n      <td>82</td>\n    </tr>\n    <tr>\n      <th>82</th>\n      <td>Caballito</td>\n      <td>6.0</td>\n      <td>83</td>\n    </tr>\n    <tr>\n      <th>89</th>\n      <td>Parque Chacabuco</td>\n      <td>7.0</td>\n      <td>90</td>\n    </tr>\n    <tr>\n      <th>94</th>\n      <td>Villa Crespo</td>\n      <td>15.0</td>\n      <td>95</td>\n    </tr>\n    <tr>\n      <th>96</th>\n      <td>Palermo</td>\n      <td>14.0</td>\n      <td>97</td>\n    </tr>\n    <tr>\n      <th>99</th>\n      <td>Colegiales</td>\n      <td>13.0</td>\n      <td>100</td>\n    </tr>\n    <tr>\n      <th>117</th>\n      <td>Almagro</td>\n      <td>5.0</td>\n      <td>118</td>\n    </tr>\n    <tr>\n      <th>118</th>\n      <td>Nueva Pompeya</td>\n      <td>4.0</td>\n      <td>119</td>\n    </tr>\n    <tr>\n      <th>124</th>\n      <td>Boedo</td>\n      <td>5.0</td>\n      <td>125</td>\n    </tr>\n    <tr>\n      <th>145</th>\n      <td>Balvanera</td>\n      <td>3.0</td>\n      <td>146</td>\n    </tr>\n    <tr>\n      <th>146</th>\n      <td>Recoleta</td>\n      <td>2.0</td>\n      <td>147</td>\n    </tr>\n    <tr>\n      <th>153</th>\n      <td>Parque Patricios</td>\n      <td>4.0</td>\n      <td>154</td>\n    </tr>\n    <tr>\n      <th>168</th>\n      <td>San Cristóbal</td>\n      <td>3.0</td>\n      <td>169</td>\n    </tr>\n    <tr>\n      <th>172</th>\n      <td>Barracas</td>\n      <td>4.0</td>\n      <td>173</td>\n    </tr>\n    <tr>\n      <th>186</th>\n      <td>San Nicolás</td>\n      <td>1.0</td>\n      <td>187</td>\n    </tr>\n    <tr>\n      <th>193</th>\n      <td>Constitución</td>\n      <td>1.0</td>\n      <td>194</td>\n    </tr>\n    <tr>\n      <th>196</th>\n      <td>Retiro</td>\n      <td>1.0</td>\n      <td>197</td>\n    </tr>\n    <tr>\n      <th>204</th>\n      <td>Monserrat</td>\n      <td>1.0</td>\n      <td>205</td>\n    </tr>\n    <tr>\n      <th>212</th>\n      <td>San Telmo</td>\n      <td>1.0</td>\n      <td>213</td>\n    </tr>\n    <tr>\n      <th>216</th>\n      <td>Puerto Madero</td>\n      <td>1.0</td>\n      <td>217</td>\n    </tr>\n    <tr>\n      <th>223</th>\n      <td>Boca</td>\n      <td>4.0</td>\n      <td>224</td>\n    </tr>\n    <tr>\n      <th>231</th>\n      <td>Liniers</td>\n      <td>9.0</td>\n      <td>232</td>\n    </tr>\n    <tr>\n      <th>250</th>\n      <td>Villa Pueyrredón</td>\n      <td>12.0</td>\n      <td>251</td>\n    </tr>\n    <tr>\n      <th>294</th>\n      <td>Villa Riachuelo</td>\n      <td>8.0</td>\n      <td>295</td>\n    </tr>\n    <tr>\n      <th>297</th>\n      <td>Parque Chas</td>\n      <td>15.0</td>\n      <td>298</td>\n    </tr>\n    <tr>\n      <th>301</th>\n      <td>Villa Ortuzar</td>\n      <td>15.0</td>\n      <td>302</td>\n    </tr>\n    <tr>\n      <th>557</th>\n      <td>NaN</td>\n      <td>NaN</td>\n      <td>558</td>\n    </tr>\n    <tr>\n      <th>1199</th>\n      <td>Villa Real</td>\n      <td>10.0</td>\n      <td>1200</td>\n    </tr>\n    <tr>\n      <th>25763</th>\n      <td>La Boca</td>\n      <td>4.0</td>\n      <td>25764</td>\n    </tr>\n  </tbody>\n</table>\n</div>"
     },
     "execution_count": 31,
     "metadata": {},
     "output_type": "execute_result"
    }
   ],
   "source": [
    "# TABLA LUGARES\n",
    "lugares_csv = csv[['barrio', 'comuna']]\n",
    "# drop dups\n",
    "lugares_csv = lugares_csv.drop_duplicates()\n",
    "# add id column\n",
    "lugares_csv['id'] = lugares_csv.index + 1\n",
    "lugares_csv"
   ],
   "metadata": {
    "collapsed": false
   }
  },
  {
   "cell_type": "code",
   "execution_count": 33,
   "outputs": [
    {
     "data": {
      "text/plain": "       uso_armas  id\n0            NaN   1\n1  Arma cortante   2\n2  Arma de fuego   3",
      "text/html": "<div>\n<style scoped>\n    .dataframe tbody tr th:only-of-type {\n        vertical-align: middle;\n    }\n\n    .dataframe tbody tr th {\n        vertical-align: top;\n    }\n\n    .dataframe thead th {\n        text-align: right;\n    }\n</style>\n<table border=\"1\" class=\"dataframe\">\n  <thead>\n    <tr style=\"text-align: right;\">\n      <th></th>\n      <th>uso_armas</th>\n      <th>id</th>\n    </tr>\n  </thead>\n  <tbody>\n    <tr>\n      <th>0</th>\n      <td>NaN</td>\n      <td>1</td>\n    </tr>\n    <tr>\n      <th>1</th>\n      <td>Arma cortante</td>\n      <td>2</td>\n    </tr>\n    <tr>\n      <th>2</th>\n      <td>Arma de fuego</td>\n      <td>3</td>\n    </tr>\n  </tbody>\n</table>\n</div>"
     },
     "execution_count": 33,
     "metadata": {},
     "output_type": "execute_result"
    }
   ],
   "source": [
    "# TABLA TIPO DE ARMA\n",
    "armas_csv = csv[['uso_armas']]\n",
    "armas_csv = armas_csv.drop_duplicates(ignore_index=True)\n",
    "armas_csv['id'] = armas_csv.index + 1\n",
    "armas_csv"
   ],
   "metadata": {
    "collapsed": false
   }
  },
  {
   "cell_type": "code",
   "execution_count": 47,
   "outputs": [
    {
     "data": {
      "text/plain": "        victimas  lugar_id  arma_id  tiempo_id\n0            NaN         1        1          1\n1            NaN         1        1       2138\n2            NaN         1        1       4396\n3            NaN         1        1       6566\n4            NaN         1        1       8861\n...          ...       ...      ...        ...\n290055       NaN        90        3      26901\n290056       NaN       205        2      25612\n290057       NaN       205        2      26901\n290058       NaN       173        3      26857\n290059       NaN        90        2       4231\n\n[290060 rows x 4 columns]",
      "text/html": "<div>\n<style scoped>\n    .dataframe tbody tr th:only-of-type {\n        vertical-align: middle;\n    }\n\n    .dataframe tbody tr th {\n        vertical-align: top;\n    }\n\n    .dataframe thead th {\n        text-align: right;\n    }\n</style>\n<table border=\"1\" class=\"dataframe\">\n  <thead>\n    <tr style=\"text-align: right;\">\n      <th></th>\n      <th>victimas</th>\n      <th>lugar_id</th>\n      <th>arma_id</th>\n      <th>tiempo_id</th>\n    </tr>\n  </thead>\n  <tbody>\n    <tr>\n      <th>0</th>\n      <td>NaN</td>\n      <td>1</td>\n      <td>1</td>\n      <td>1</td>\n    </tr>\n    <tr>\n      <th>1</th>\n      <td>NaN</td>\n      <td>1</td>\n      <td>1</td>\n      <td>2138</td>\n    </tr>\n    <tr>\n      <th>2</th>\n      <td>NaN</td>\n      <td>1</td>\n      <td>1</td>\n      <td>4396</td>\n    </tr>\n    <tr>\n      <th>3</th>\n      <td>NaN</td>\n      <td>1</td>\n      <td>1</td>\n      <td>6566</td>\n    </tr>\n    <tr>\n      <th>4</th>\n      <td>NaN</td>\n      <td>1</td>\n      <td>1</td>\n      <td>8861</td>\n    </tr>\n    <tr>\n      <th>...</th>\n      <td>...</td>\n      <td>...</td>\n      <td>...</td>\n      <td>...</td>\n    </tr>\n    <tr>\n      <th>290055</th>\n      <td>NaN</td>\n      <td>90</td>\n      <td>3</td>\n      <td>26901</td>\n    </tr>\n    <tr>\n      <th>290056</th>\n      <td>NaN</td>\n      <td>205</td>\n      <td>2</td>\n      <td>25612</td>\n    </tr>\n    <tr>\n      <th>290057</th>\n      <td>NaN</td>\n      <td>205</td>\n      <td>2</td>\n      <td>26901</td>\n    </tr>\n    <tr>\n      <th>290058</th>\n      <td>NaN</td>\n      <td>173</td>\n      <td>3</td>\n      <td>26857</td>\n    </tr>\n    <tr>\n      <th>290059</th>\n      <td>NaN</td>\n      <td>90</td>\n      <td>2</td>\n      <td>4231</td>\n    </tr>\n  </tbody>\n</table>\n<p>290060 rows × 4 columns</p>\n</div>"
     },
     "execution_count": 47,
     "metadata": {},
     "output_type": "execute_result"
    }
   ],
   "source": [
    "# TABLA DELITOS\n",
    "delitos_csv = csv[['victimas', 'barrio', 'uso_armas', 'anio', 'mes', 'dia', 'franja']]\n",
    "\n",
    "# replace barrio for lugar_id\n",
    "delitos_csv = delitos_csv.merge(lugares_csv, left_on='barrio', right_on='barrio')\n",
    "delitos_csv = delitos_csv.rename(columns={'id': 'lugar_id'})\n",
    "delitos_csv = delitos_csv.drop(columns=['barrio', 'comuna'])\n",
    "\n",
    "# replace uso_armas for arma_id\n",
    "delitos_csv = delitos_csv.merge(armas_csv, left_on='uso_armas', right_on='uso_armas')\n",
    "delitos_csv = delitos_csv.rename(columns={'id': 'arma_id'})\n",
    "delitos_csv = delitos_csv.drop(columns=['uso_armas'])\n",
    "\n",
    "# replace fecha, franja for tiempo_id\n",
    "delitos_csv = delitos_csv.merge(tiempos_csv, left_on=['anio', 'mes', 'dia', 'franja'], right_on=['anio', 'mes', 'dia', 'franja'])\n",
    "delitos_csv = delitos_csv.rename(columns={'id': 'tiempo_id'})\n",
    "delitos_csv = delitos_csv.drop(columns=['anio', 'mes', 'dia', 'franja', 'nro_dia', 'fecha'])\n",
    "delitos_csv"
   ],
   "metadata": {
    "collapsed": false
   }
  },
  {
   "cell_type": "code",
   "execution_count": null,
   "outputs": [],
   "source": [],
   "metadata": {
    "collapsed": false
   }
  }
 ],
 "metadata": {
  "kernelspec": {
   "display_name": "Python 3",
   "language": "python",
   "name": "python3"
  },
  "language_info": {
   "codemirror_mode": {
    "name": "ipython",
    "version": 2
   },
   "file_extension": ".py",
   "mimetype": "text/x-python",
   "name": "python",
   "nbconvert_exporter": "python",
   "pygments_lexer": "ipython2",
   "version": "2.7.6"
  }
 },
 "nbformat": 4,
 "nbformat_minor": 0
}
