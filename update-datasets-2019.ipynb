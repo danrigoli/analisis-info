{
 "cells": [
  {
   "cell_type": "code",
   "execution_count": 8,
   "outputs": [],
   "source": [
    "import pandas as pd\n",
    "from datetime import datetime"
   ],
   "metadata": {
    "collapsed": false
   }
  },
  {
   "cell_type": "code",
   "execution_count": 9,
   "outputs": [
    {
     "name": "stderr",
     "output_type": "stream",
     "text": [
      "/var/folders/zk/0yzb9y8s6z71smfld5fjvdjh0000gn/T/ipykernel_15542/3724983382.py:2: DtypeWarning: Columns (2) have mixed types. Specify dtype option on import or set low_memory=False.\n",
      "  csv = pd.read_csv(f'input/delitos_{year}.csv')\n"
     ]
    }
   ],
   "source": [
    "year = '2019'\n",
    "csv = pd.read_csv(f'input/delitos_{year}.csv')"
   ],
   "metadata": {
    "collapsed": false
   }
  },
  {
   "cell_type": "code",
   "execution_count": 10,
   "outputs": [],
   "source": [
    "# add column mes with month name\n",
    "csv['mes'] = csv['fecha'].apply(lambda x: x[3:5])\n",
    "csv['mes'] = csv['mes'].apply(lambda x: 'Enero' if x == '01' else x)\n",
    "csv['mes'] = csv['mes'].apply(lambda x: 'Febrero' if x == '02' else x)\n",
    "csv['mes'] = csv['mes'].apply(lambda x: 'Marzo' if x == '03' else x)\n",
    "csv['mes'] = csv['mes'].apply(lambda x: 'Abril' if x == '04' else x)\n",
    "csv['mes'] = csv['mes'].apply(lambda x: 'Mayo' if x == '05' else x)\n",
    "csv['mes'] = csv['mes'].apply(lambda x: 'Junio' if x == '06' else x)\n",
    "csv['mes'] = csv['mes'].apply(lambda x: 'Julio' if x == '07' else x)\n",
    "csv['mes'] = csv['mes'].apply(lambda x: 'Agosto' if x == '08' else x)\n",
    "csv['mes'] = csv['mes'].apply(lambda x: 'Septiembre' if x == '09' else x)\n",
    "csv['mes'] = csv['mes'].apply(lambda x: 'Octubre' if x == '10' else x)\n",
    "csv['mes'] = csv['mes'].apply(lambda x: 'Noviembre' if x == '11' else x)\n",
    "csv['mes'] = csv['mes'].apply(lambda x: 'Diciembre' if x == '12' else x)"
   ],
   "metadata": {
    "collapsed": false
   }
  },
  {
   "cell_type": "code",
   "execution_count": 11,
   "outputs": [],
   "source": [
    "# get day name from date number with datetime\n",
    "csv['dia'] = csv['fecha'].apply(lambda x: datetime.strptime(x, '%d-%m-%y').strftime('%A'))\n",
    "# traduce los dias de la semana a español\n",
    "csv['dia'] = csv['dia'].apply(lambda x: 'Lunes' if x == 'Monday' else x)\n",
    "csv['dia'] = csv['dia'].apply(lambda x: 'Martes' if x == 'Tuesday' else x)\n",
    "csv['dia'] = csv['dia'].apply(lambda x: 'Miercoles' if x == 'Wednesday' else x)\n",
    "csv['dia'] = csv['dia'].apply(lambda x: 'Jueves' if x == 'Thursday' else x)\n",
    "csv['dia'] = csv['dia'].apply(lambda x: 'Viernes' if x == 'Friday' else x)\n",
    "csv['dia'] = csv['dia'].apply(lambda x: 'Sabado' if x == 'Saturday' else x)\n",
    "csv['dia'] = csv['dia'].apply(lambda x: 'Domingo' if x == 'Sunday' else x)"
   ],
   "metadata": {
    "collapsed": false
   }
  },
  {
   "cell_type": "code",
   "execution_count": 12,
   "outputs": [
    {
     "data": {
      "text/plain": "             id     fecha franja                  tipo subtipo   \n0       1038983  13/09/19     14  Robo (con violencia)     NaN  \\\n1       1038986  13/09/19     16  Robo (con violencia)     NaN   \n2       1038989  13/09/19     13  Robo (con violencia)     NaN   \n3       1038990  13/09/19     16  Robo (con violencia)     NaN   \n4       1038991  13/09/19     11  Robo (con violencia)     NaN   \n...         ...       ...    ...                   ...     ...   \n122479  1038888  13/09/19     21  Robo (con violencia)     NaN   \n122480  1038920  13/09/19     20  Robo (con violencia)     NaN   \n122481  1038975  13/09/19     18  Robo (con violencia)     NaN   \n122482  1038977  13/09/19     19  Robo (con violencia)     NaN   \n122483  1038982  13/09/19      9  Robo (con violencia)     NaN   \n\n        cantidad_registrada  comuna            barrio    latitud   longitud   \n0                       NaN     6.0         Caballito -34.609876 -58.456159  \\\n1                       NaN     3.0         Balvanera -34.609394 -58.395934   \n2                       NaN     3.0         Balvanera -34.609231 -58.411177   \n3                       NaN     3.0         Balvanera -34.609095 -58.405899   \n4                       NaN     1.0         Monserrat -34.609073 -58.380570   \n...                     ...     ...               ...        ...        ...   \n122479                  NaN    10.0   Vélez Sársfield -34.631202 -58.500760   \n122480                  NaN    10.0   Vélez Sársfield -34.624261 -58.495508   \n122481                  NaN     5.0           Almagro -34.611807 -58.421817   \n122482                  NaN    11.0  Villa Santa Rita -34.611037 -58.483334   \n122483                  NaN     3.0         Balvanera -34.610367 -58.408288   \n\n               mes      dia  \n0       Septiembre  Viernes  \n1       Septiembre  Viernes  \n2       Septiembre  Viernes  \n3       Septiembre  Viernes  \n4       Septiembre  Viernes  \n...            ...      ...  \n122479  Septiembre  Viernes  \n122480  Septiembre  Viernes  \n122481  Septiembre  Viernes  \n122482  Septiembre  Viernes  \n122483  Septiembre  Viernes  \n\n[122484 rows x 12 columns]",
      "text/html": "<div>\n<style scoped>\n    .dataframe tbody tr th:only-of-type {\n        vertical-align: middle;\n    }\n\n    .dataframe tbody tr th {\n        vertical-align: top;\n    }\n\n    .dataframe thead th {\n        text-align: right;\n    }\n</style>\n<table border=\"1\" class=\"dataframe\">\n  <thead>\n    <tr style=\"text-align: right;\">\n      <th></th>\n      <th>id</th>\n      <th>fecha</th>\n      <th>franja</th>\n      <th>tipo</th>\n      <th>subtipo</th>\n      <th>cantidad_registrada</th>\n      <th>comuna</th>\n      <th>barrio</th>\n      <th>latitud</th>\n      <th>longitud</th>\n      <th>mes</th>\n      <th>dia</th>\n    </tr>\n  </thead>\n  <tbody>\n    <tr>\n      <th>0</th>\n      <td>1038983</td>\n      <td>13/09/19</td>\n      <td>14</td>\n      <td>Robo (con violencia)</td>\n      <td>NaN</td>\n      <td>NaN</td>\n      <td>6.0</td>\n      <td>Caballito</td>\n      <td>-34.609876</td>\n      <td>-58.456159</td>\n      <td>Septiembre</td>\n      <td>Viernes</td>\n    </tr>\n    <tr>\n      <th>1</th>\n      <td>1038986</td>\n      <td>13/09/19</td>\n      <td>16</td>\n      <td>Robo (con violencia)</td>\n      <td>NaN</td>\n      <td>NaN</td>\n      <td>3.0</td>\n      <td>Balvanera</td>\n      <td>-34.609394</td>\n      <td>-58.395934</td>\n      <td>Septiembre</td>\n      <td>Viernes</td>\n    </tr>\n    <tr>\n      <th>2</th>\n      <td>1038989</td>\n      <td>13/09/19</td>\n      <td>13</td>\n      <td>Robo (con violencia)</td>\n      <td>NaN</td>\n      <td>NaN</td>\n      <td>3.0</td>\n      <td>Balvanera</td>\n      <td>-34.609231</td>\n      <td>-58.411177</td>\n      <td>Septiembre</td>\n      <td>Viernes</td>\n    </tr>\n    <tr>\n      <th>3</th>\n      <td>1038990</td>\n      <td>13/09/19</td>\n      <td>16</td>\n      <td>Robo (con violencia)</td>\n      <td>NaN</td>\n      <td>NaN</td>\n      <td>3.0</td>\n      <td>Balvanera</td>\n      <td>-34.609095</td>\n      <td>-58.405899</td>\n      <td>Septiembre</td>\n      <td>Viernes</td>\n    </tr>\n    <tr>\n      <th>4</th>\n      <td>1038991</td>\n      <td>13/09/19</td>\n      <td>11</td>\n      <td>Robo (con violencia)</td>\n      <td>NaN</td>\n      <td>NaN</td>\n      <td>1.0</td>\n      <td>Monserrat</td>\n      <td>-34.609073</td>\n      <td>-58.380570</td>\n      <td>Septiembre</td>\n      <td>Viernes</td>\n    </tr>\n    <tr>\n      <th>...</th>\n      <td>...</td>\n      <td>...</td>\n      <td>...</td>\n      <td>...</td>\n      <td>...</td>\n      <td>...</td>\n      <td>...</td>\n      <td>...</td>\n      <td>...</td>\n      <td>...</td>\n      <td>...</td>\n      <td>...</td>\n    </tr>\n    <tr>\n      <th>122479</th>\n      <td>1038888</td>\n      <td>13/09/19</td>\n      <td>21</td>\n      <td>Robo (con violencia)</td>\n      <td>NaN</td>\n      <td>NaN</td>\n      <td>10.0</td>\n      <td>Vélez Sársfield</td>\n      <td>-34.631202</td>\n      <td>-58.500760</td>\n      <td>Septiembre</td>\n      <td>Viernes</td>\n    </tr>\n    <tr>\n      <th>122480</th>\n      <td>1038920</td>\n      <td>13/09/19</td>\n      <td>20</td>\n      <td>Robo (con violencia)</td>\n      <td>NaN</td>\n      <td>NaN</td>\n      <td>10.0</td>\n      <td>Vélez Sársfield</td>\n      <td>-34.624261</td>\n      <td>-58.495508</td>\n      <td>Septiembre</td>\n      <td>Viernes</td>\n    </tr>\n    <tr>\n      <th>122481</th>\n      <td>1038975</td>\n      <td>13/09/19</td>\n      <td>18</td>\n      <td>Robo (con violencia)</td>\n      <td>NaN</td>\n      <td>NaN</td>\n      <td>5.0</td>\n      <td>Almagro</td>\n      <td>-34.611807</td>\n      <td>-58.421817</td>\n      <td>Septiembre</td>\n      <td>Viernes</td>\n    </tr>\n    <tr>\n      <th>122482</th>\n      <td>1038977</td>\n      <td>13/09/19</td>\n      <td>19</td>\n      <td>Robo (con violencia)</td>\n      <td>NaN</td>\n      <td>NaN</td>\n      <td>11.0</td>\n      <td>Villa Santa Rita</td>\n      <td>-34.611037</td>\n      <td>-58.483334</td>\n      <td>Septiembre</td>\n      <td>Viernes</td>\n    </tr>\n    <tr>\n      <th>122483</th>\n      <td>1038982</td>\n      <td>13/09/19</td>\n      <td>9</td>\n      <td>Robo (con violencia)</td>\n      <td>NaN</td>\n      <td>NaN</td>\n      <td>3.0</td>\n      <td>Balvanera</td>\n      <td>-34.610367</td>\n      <td>-58.408288</td>\n      <td>Septiembre</td>\n      <td>Viernes</td>\n    </tr>\n  </tbody>\n</table>\n<p>122484 rows × 12 columns</p>\n</div>"
     },
     "execution_count": 12,
     "metadata": {},
     "output_type": "execute_result"
    }
   ],
   "source": [
    "# change date format from YYYY-MM-DD to DD/MM/YYYY\n",
    "csv['fecha'] = csv['fecha'].apply(lambda x: x.replace('-', '/'))\n",
    "csv"
   ],
   "metadata": {
    "collapsed": false
   }
  },
  {
   "cell_type": "code",
   "execution_count": 13,
   "outputs": [
    {
     "data": {
      "text/plain": "             id     fecha franja                  tipo subtipo   \n0       1038983  13/09/19     14  Robo (con violencia)     NaN  \\\n1       1038986  13/09/19     16  Robo (con violencia)     NaN   \n2       1038989  13/09/19     13  Robo (con violencia)     NaN   \n3       1038990  13/09/19     16  Robo (con violencia)     NaN   \n4       1038991  13/09/19     11  Robo (con violencia)     NaN   \n...         ...       ...    ...                   ...     ...   \n122479  1038888  13/09/19     21  Robo (con violencia)     NaN   \n122480  1038920  13/09/19     20  Robo (con violencia)     NaN   \n122481  1038975  13/09/19     18  Robo (con violencia)     NaN   \n122482  1038977  13/09/19     19  Robo (con violencia)     NaN   \n122483  1038982  13/09/19      9  Robo (con violencia)     NaN   \n\n        cantidad_registrada  comuna            barrio    latitud   longitud   \n0                       NaN     6.0         Caballito -34.609876 -58.456159  \\\n1                       NaN     3.0         Balvanera -34.609394 -58.395934   \n2                       NaN     3.0         Balvanera -34.609231 -58.411177   \n3                       NaN     3.0         Balvanera -34.609095 -58.405899   \n4                       NaN     1.0         Monserrat -34.609073 -58.380570   \n...                     ...     ...               ...        ...        ...   \n122479                  NaN    10.0   Vélez Sársfield -34.631202 -58.500760   \n122480                  NaN    10.0   Vélez Sársfield -34.624261 -58.495508   \n122481                  NaN     5.0           Almagro -34.611807 -58.421817   \n122482                  NaN    11.0  Villa Santa Rita -34.611037 -58.483334   \n122483                  NaN     3.0         Balvanera -34.610367 -58.408288   \n\n               mes      dia  \n0       Septiembre  Viernes  \n1       Septiembre  Viernes  \n2       Septiembre  Viernes  \n3       Septiembre  Viernes  \n4       Septiembre  Viernes  \n...            ...      ...  \n122479  Septiembre  Viernes  \n122480  Septiembre  Viernes  \n122481  Septiembre  Viernes  \n122482  Septiembre  Viernes  \n122483  Septiembre  Viernes  \n\n[122484 rows x 12 columns]",
      "text/html": "<div>\n<style scoped>\n    .dataframe tbody tr th:only-of-type {\n        vertical-align: middle;\n    }\n\n    .dataframe tbody tr th {\n        vertical-align: top;\n    }\n\n    .dataframe thead th {\n        text-align: right;\n    }\n</style>\n<table border=\"1\" class=\"dataframe\">\n  <thead>\n    <tr style=\"text-align: right;\">\n      <th></th>\n      <th>id</th>\n      <th>fecha</th>\n      <th>franja</th>\n      <th>tipo</th>\n      <th>subtipo</th>\n      <th>cantidad_registrada</th>\n      <th>comuna</th>\n      <th>barrio</th>\n      <th>latitud</th>\n      <th>longitud</th>\n      <th>mes</th>\n      <th>dia</th>\n    </tr>\n  </thead>\n  <tbody>\n    <tr>\n      <th>0</th>\n      <td>1038983</td>\n      <td>13/09/19</td>\n      <td>14</td>\n      <td>Robo (con violencia)</td>\n      <td>NaN</td>\n      <td>NaN</td>\n      <td>6.0</td>\n      <td>Caballito</td>\n      <td>-34.609876</td>\n      <td>-58.456159</td>\n      <td>Septiembre</td>\n      <td>Viernes</td>\n    </tr>\n    <tr>\n      <th>1</th>\n      <td>1038986</td>\n      <td>13/09/19</td>\n      <td>16</td>\n      <td>Robo (con violencia)</td>\n      <td>NaN</td>\n      <td>NaN</td>\n      <td>3.0</td>\n      <td>Balvanera</td>\n      <td>-34.609394</td>\n      <td>-58.395934</td>\n      <td>Septiembre</td>\n      <td>Viernes</td>\n    </tr>\n    <tr>\n      <th>2</th>\n      <td>1038989</td>\n      <td>13/09/19</td>\n      <td>13</td>\n      <td>Robo (con violencia)</td>\n      <td>NaN</td>\n      <td>NaN</td>\n      <td>3.0</td>\n      <td>Balvanera</td>\n      <td>-34.609231</td>\n      <td>-58.411177</td>\n      <td>Septiembre</td>\n      <td>Viernes</td>\n    </tr>\n    <tr>\n      <th>3</th>\n      <td>1038990</td>\n      <td>13/09/19</td>\n      <td>16</td>\n      <td>Robo (con violencia)</td>\n      <td>NaN</td>\n      <td>NaN</td>\n      <td>3.0</td>\n      <td>Balvanera</td>\n      <td>-34.609095</td>\n      <td>-58.405899</td>\n      <td>Septiembre</td>\n      <td>Viernes</td>\n    </tr>\n    <tr>\n      <th>4</th>\n      <td>1038991</td>\n      <td>13/09/19</td>\n      <td>11</td>\n      <td>Robo (con violencia)</td>\n      <td>NaN</td>\n      <td>NaN</td>\n      <td>1.0</td>\n      <td>Monserrat</td>\n      <td>-34.609073</td>\n      <td>-58.380570</td>\n      <td>Septiembre</td>\n      <td>Viernes</td>\n    </tr>\n    <tr>\n      <th>...</th>\n      <td>...</td>\n      <td>...</td>\n      <td>...</td>\n      <td>...</td>\n      <td>...</td>\n      <td>...</td>\n      <td>...</td>\n      <td>...</td>\n      <td>...</td>\n      <td>...</td>\n      <td>...</td>\n      <td>...</td>\n    </tr>\n    <tr>\n      <th>122479</th>\n      <td>1038888</td>\n      <td>13/09/19</td>\n      <td>21</td>\n      <td>Robo (con violencia)</td>\n      <td>NaN</td>\n      <td>NaN</td>\n      <td>10.0</td>\n      <td>Vélez Sársfield</td>\n      <td>-34.631202</td>\n      <td>-58.500760</td>\n      <td>Septiembre</td>\n      <td>Viernes</td>\n    </tr>\n    <tr>\n      <th>122480</th>\n      <td>1038920</td>\n      <td>13/09/19</td>\n      <td>20</td>\n      <td>Robo (con violencia)</td>\n      <td>NaN</td>\n      <td>NaN</td>\n      <td>10.0</td>\n      <td>Vélez Sársfield</td>\n      <td>-34.624261</td>\n      <td>-58.495508</td>\n      <td>Septiembre</td>\n      <td>Viernes</td>\n    </tr>\n    <tr>\n      <th>122481</th>\n      <td>1038975</td>\n      <td>13/09/19</td>\n      <td>18</td>\n      <td>Robo (con violencia)</td>\n      <td>NaN</td>\n      <td>NaN</td>\n      <td>5.0</td>\n      <td>Almagro</td>\n      <td>-34.611807</td>\n      <td>-58.421817</td>\n      <td>Septiembre</td>\n      <td>Viernes</td>\n    </tr>\n    <tr>\n      <th>122482</th>\n      <td>1038977</td>\n      <td>13/09/19</td>\n      <td>19</td>\n      <td>Robo (con violencia)</td>\n      <td>NaN</td>\n      <td>NaN</td>\n      <td>11.0</td>\n      <td>Villa Santa Rita</td>\n      <td>-34.611037</td>\n      <td>-58.483334</td>\n      <td>Septiembre</td>\n      <td>Viernes</td>\n    </tr>\n    <tr>\n      <th>122483</th>\n      <td>1038982</td>\n      <td>13/09/19</td>\n      <td>9</td>\n      <td>Robo (con violencia)</td>\n      <td>NaN</td>\n      <td>NaN</td>\n      <td>3.0</td>\n      <td>Balvanera</td>\n      <td>-34.610367</td>\n      <td>-58.408288</td>\n      <td>Septiembre</td>\n      <td>Viernes</td>\n    </tr>\n  </tbody>\n</table>\n<p>122484 rows × 12 columns</p>\n</div>"
     },
     "execution_count": 13,
     "metadata": {},
     "output_type": "execute_result"
    }
   ],
   "source": [
    "csv"
   ],
   "metadata": {
    "collapsed": false
   }
  },
  {
   "cell_type": "code",
   "execution_count": 14,
   "outputs": [],
   "source": [
    "# save to csv\n",
    "csv.to_csv(f'input/delitos_{year}.csv', index=False)"
   ],
   "metadata": {
    "collapsed": false
   }
  }
 ],
 "metadata": {
  "kernelspec": {
   "display_name": "Python 3",
   "language": "python",
   "name": "python3"
  },
  "language_info": {
   "codemirror_mode": {
    "name": "ipython",
    "version": 2
   },
   "file_extension": ".py",
   "mimetype": "text/x-python",
   "name": "python",
   "nbconvert_exporter": "python",
   "pygments_lexer": "ipython2",
   "version": "2.7.6"
  }
 },
 "nbformat": 4,
 "nbformat_minor": 0
}
